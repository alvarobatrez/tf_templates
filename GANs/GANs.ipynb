{
 "cells": [
  {
   "cell_type": "code",
   "execution_count": null,
   "id": "fd59ea2a-db84-4174-85e8-aaa85e697a97",
   "metadata": {},
   "outputs": [],
   "source": [
    "import numpy as np\n",
    "import pandas as pd\n",
    "import matplotlib.pyplot as plt"
   ]
  },
  {
   "cell_type": "code",
   "execution_count": null,
   "id": "34aef3c3-bdae-40de-a0b9-88c148e5011a",
   "metadata": {},
   "outputs": [],
   "source": [
    "from tensorflow.keras.datasets import mnist"
   ]
  },
  {
   "cell_type": "code",
   "execution_count": null,
   "id": "371be93e-2ca2-4ca0-8d84-3788376bf79b",
   "metadata": {},
   "outputs": [],
   "source": [
    "from tensorflow.keras.layers import Dense, Reshape, Flatten\n",
    "from tensorflow.keras import Input\n",
    "from tensorflow.keras.models import Sequential"
   ]
  },
  {
   "cell_type": "code",
   "execution_count": null,
   "id": "200b8440-e33e-4289-bbed-590046b1ab7f",
   "metadata": {},
   "outputs": [],
   "source": [
    "import tensorflow as tf"
   ]
  },
  {
   "cell_type": "markdown",
   "id": "3cf8cd7a-c6fb-4ca1-ae61-2d464b5984a5",
   "metadata": {},
   "source": [
    "## Import Data"
   ]
  },
  {
   "cell_type": "code",
   "execution_count": null,
   "id": "44151913-d879-4641-abdd-0daf2902468d",
   "metadata": {},
   "outputs": [],
   "source": [
    "(X_train, y_train), (X_test, y_test) = mnist.load_data()"
   ]
  },
  {
   "cell_type": "code",
   "execution_count": null,
   "id": "fc8fb03f-af45-48bf-a0ab-364c5c33cf75",
   "metadata": {},
   "outputs": [],
   "source": [
    "X_train = X_train / 255\n",
    "X_test = X_test / 255"
   ]
  },
  {
   "cell_type": "code",
   "execution_count": null,
   "id": "0d701346-fc50-4df8-9aab-ce3e54d9bd7a",
   "metadata": {},
   "outputs": [],
   "source": [
    "plt.imshow(X_train[0]);"
   ]
  },
  {
   "cell_type": "code",
   "execution_count": null,
   "id": "79ffcc5e-e4e8-4b2f-8000-8eae8e1e4442",
   "metadata": {},
   "outputs": [],
   "source": [
    "y_train[0]"
   ]
  },
  {
   "cell_type": "markdown",
   "id": "01d5b0bb-e36d-4c8d-ba73-9a0697c5ca38",
   "metadata": {},
   "source": [
    "## Filtering Data"
   ]
  },
  {
   "cell_type": "code",
   "execution_count": null,
   "id": "e8a834e6-79d9-4e9c-98ef-b87132767e72",
   "metadata": {},
   "outputs": [],
   "source": [
    "only_fours = X_train[y_train==4]"
   ]
  },
  {
   "cell_type": "code",
   "execution_count": null,
   "id": "a0dc5ab5-e02f-4348-8ddd-72243a00acfa",
   "metadata": {},
   "outputs": [],
   "source": [
    "only_fours.shape"
   ]
  },
  {
   "cell_type": "code",
   "execution_count": null,
   "id": "cde5e64a-e7ef-418c-8eb4-76702052331b",
   "metadata": {},
   "outputs": [],
   "source": [
    "plt.imshow(only_fours[4000]);"
   ]
  },
  {
   "cell_type": "code",
   "execution_count": null,
   "id": "8d66e438-6f51-4a2b-872a-2066b2bf66cb",
   "metadata": {},
   "outputs": [],
   "source": [
    "np.random.seed(42)\n",
    "tf.random.set_seed(42)\n",
    "\n",
    "codings_size = 100"
   ]
  },
  {
   "cell_type": "code",
   "execution_count": null,
   "id": "1539d4ed-ed17-4713-9550-0e4dc24650c7",
   "metadata": {},
   "outputs": [],
   "source": [
    "generator = Sequential()\n",
    "generator.add(Input(shape=(codings_size,)))\n",
    "generator.add(Dense(units=100, activation='relu'))\n",
    "generator.add(Dense(units=200, activation='relu'))\n",
    "generator.add(Dense(units=28*28, activation='sigmoid'))\n",
    "generator.add(Reshape((28, 28)))"
   ]
  },
  {
   "cell_type": "code",
   "execution_count": null,
   "id": "a4998b72-2120-4c46-8bc8-61830b859e6e",
   "metadata": {},
   "outputs": [],
   "source": [
    "discriminator = Sequential()\n",
    "discriminator.add(Input(shape=(28,28)))\n",
    "discriminator.add(Flatten())\n",
    "discriminator.add(Dense(units=200, activation='relu'))\n",
    "discriminator.add(Dense(units=100, activation='relu'))\n",
    "discriminator.add(Dense(units=1, activation='sigmoid'))"
   ]
  },
  {
   "cell_type": "code",
   "execution_count": null,
   "id": "2ec9b9b8-5b1c-4cc8-95b8-5fc09fd5c344",
   "metadata": {},
   "outputs": [],
   "source": [
    "discriminator.compile(loss='binary_crossentropy', optimizer='adam')"
   ]
  },
  {
   "cell_type": "code",
   "execution_count": null,
   "id": "5b1e0509-22e1-4b15-82e0-6c823fd7794c",
   "metadata": {},
   "outputs": [],
   "source": [
    "GAN = Sequential([generator, discriminator])"
   ]
  },
  {
   "cell_type": "code",
   "execution_count": null,
   "id": "cabf3b2e-4aed-4a9d-a43d-e43e65e14118",
   "metadata": {},
   "outputs": [],
   "source": [
    "discriminator.trainable = False"
   ]
  },
  {
   "cell_type": "code",
   "execution_count": null,
   "id": "56f661ec-5c70-49b9-b2c0-43a1cf089828",
   "metadata": {},
   "outputs": [],
   "source": [
    "GAN.compile(loss='binary_crossentropy', optimizer='adam')"
   ]
  },
  {
   "cell_type": "code",
   "execution_count": null,
   "id": "a84aa7fd-fee7-4e53-a9ff-f246037acd4c",
   "metadata": {},
   "outputs": [],
   "source": [
    "GAN.layers"
   ]
  },
  {
   "cell_type": "code",
   "execution_count": null,
   "id": "59f57cbc-37d7-42ad-b247-825992b28dec",
   "metadata": {},
   "outputs": [],
   "source": [
    "GAN.layers[0].summary()"
   ]
  },
  {
   "cell_type": "code",
   "execution_count": null,
   "id": "82a28429-2049-4901-bc39-268671bebb9c",
   "metadata": {},
   "outputs": [],
   "source": [
    "GAN.layers[1].summary()"
   ]
  },
  {
   "cell_type": "markdown",
   "id": "869004d7-f11e-4fcf-8712-6372fed7d1e6",
   "metadata": {},
   "source": [
    "## Batch Size"
   ]
  },
  {
   "cell_type": "code",
   "execution_count": null,
   "id": "b3f6e406-89e5-48b5-bd46-ec6ca8778e01",
   "metadata": {},
   "outputs": [],
   "source": [
    "batch_size = 32"
   ]
  },
  {
   "cell_type": "code",
   "execution_count": null,
   "id": "f41d08ed-a328-4340-8e78-a466471683f2",
   "metadata": {},
   "outputs": [],
   "source": [
    "my_data = only_fours"
   ]
  },
  {
   "cell_type": "code",
   "execution_count": null,
   "id": "caa0f678-639f-4b7b-92f6-0bd3bfcf9a43",
   "metadata": {},
   "outputs": [],
   "source": [
    "dataset = tf.data.Dataset.from_tensor_slices(my_data).shuffle(buffer_size=1000)"
   ]
  },
  {
   "cell_type": "code",
   "execution_count": null,
   "id": "3d57d730-4394-47f4-b16b-8f678bfe3de9",
   "metadata": {},
   "outputs": [],
   "source": [
    "dataset = dataset.batch(batch_size, drop_remainder=True).prefetch(1)"
   ]
  },
  {
   "cell_type": "markdown",
   "id": "73fc8ba5-8b33-4f74-b25c-a06ddd6cdbc6",
   "metadata": {},
   "source": [
    "## Training"
   ]
  },
  {
   "cell_type": "markdown",
   "id": "5e056eaf-852e-4e9f-9b5d-676b9ec098a1",
   "metadata": {},
   "source": [
    "NOTE: The generator never actually sees any real images. It learns by viewing the gradients going back through the discriminator. The better the discrimnator gets through training, the more information the discriminator contains in its gradients, which means the generator can being to make progress in learning how to generate fake images, in our case, fake zeros.**"
   ]
  },
  {
   "cell_type": "code",
   "execution_count": null,
   "id": "4a5d5484-9843-410c-abcc-dd0179257081",
   "metadata": {},
   "outputs": [],
   "source": [
    "epochs = 20\n",
    "\n",
    "# Grab the seprate components\n",
    "generator, discriminator = GAN.layers\n",
    "\n",
    "# For every epcoh\n",
    "for epoch in range(epochs):\n",
    "    print(f\"Currently on Epoch {epoch+1}\")\n",
    "    i = 0\n",
    "    # For every batch in the dataset\n",
    "    for X_batch in dataset:\n",
    "        i=i+1\n",
    "        if i%10 == 0:\n",
    "            print(f\"\\tCurrently on batch number {i} of {len(my_data)//batch_size}\")\n",
    "            \n",
    "        ##### TRAINING THE DISCRIMINATOR ######\n",
    "        \n",
    "        # Create Noise\n",
    "        noise = tf.random.normal(shape=[batch_size, codings_size])\n",
    "        \n",
    "        # Generate numbers based just on noise input\n",
    "        gen_images = generator(noise)\n",
    "        \n",
    "        # Concatenate Generated Images against the Real Ones\n",
    "        # TO use tf.concat, the data types must match!\n",
    "        X_fake_vs_real = tf.concat([gen_images, tf.dtypes.cast(X_batch,tf.float32)], axis=0)\n",
    "        \n",
    "        # Targets set to zero for fake images and 1 for real images\n",
    "        y1 = tf.constant([[0.]] * batch_size + [[1.]] * batch_size)\n",
    "        \n",
    "        # This gets rid of a Keras warning\n",
    "        discriminator.trainable = True\n",
    "        \n",
    "        # Train the discriminator on this batch\n",
    "        discriminator.train_on_batch(X_fake_vs_real, y1)\n",
    "        \n",
    "        \n",
    "        ##### TRAINING THE GENERATOR #####\n",
    "        \n",
    "        # Create some noise\n",
    "        noise = tf.random.normal(shape=[batch_size, codings_size])\n",
    "        \n",
    "        # We want discriminator to belive that fake images are real\n",
    "        y2 = tf.constant([[1.]] * batch_size)\n",
    "        \n",
    "        # Avois a warning\n",
    "        discriminator.trainable = False\n",
    "        \n",
    "        GAN.train_on_batch(noise, y2)       "
   ]
  },
  {
   "cell_type": "code",
   "execution_count": null,
   "id": "8177f132-6cc8-4401-8e18-e0c988b42dcc",
   "metadata": {},
   "outputs": [],
   "source": [
    "noise = tf.random.normal(shape=[10, codings_size])"
   ]
  },
  {
   "cell_type": "code",
   "execution_count": null,
   "id": "6754b099-39b6-4b4a-bb60-b0dddbff9584",
   "metadata": {},
   "outputs": [],
   "source": [
    "noise.shape"
   ]
  },
  {
   "cell_type": "code",
   "execution_count": null,
   "id": "2bff8907-531c-42e3-a95e-bd4b197bb3ad",
   "metadata": {},
   "outputs": [],
   "source": [
    "plt.imshow(noise);"
   ]
  },
  {
   "cell_type": "code",
   "execution_count": null,
   "id": "dac2ec8a-4173-4b52-80e2-bee22eb34e41",
   "metadata": {},
   "outputs": [],
   "source": [
    "image = generator(noise)"
   ]
  },
  {
   "cell_type": "code",
   "execution_count": null,
   "id": "c458b91e-6507-4413-9130-d4bded6b183c",
   "metadata": {},
   "outputs": [],
   "source": [
    "plt.imshow(image[5]);"
   ]
  },
  {
   "cell_type": "code",
   "execution_count": null,
   "id": "b4b00f27-8a3b-43fc-94b7-ba1a73eabcb7",
   "metadata": {},
   "outputs": [],
   "source": []
  }
 ],
 "metadata": {
  "kernelspec": {
   "display_name": "Python 3 (ipykernel)",
   "language": "python",
   "name": "python3"
  },
  "language_info": {
   "codemirror_mode": {
    "name": "ipython",
    "version": 3
   },
   "file_extension": ".py",
   "mimetype": "text/x-python",
   "name": "python",
   "nbconvert_exporter": "python",
   "pygments_lexer": "ipython3",
   "version": "3.12.3"
  }
 },
 "nbformat": 4,
 "nbformat_minor": 5
}
