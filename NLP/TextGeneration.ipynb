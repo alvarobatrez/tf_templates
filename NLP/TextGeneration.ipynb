{
 "cells": [
  {
   "cell_type": "code",
   "execution_count": null,
   "id": "6dd1f3d3-01b0-4900-9a89-579d1b40cb3d",
   "metadata": {},
   "outputs": [],
   "source": [
    "import numpy as np\n",
    "import tensorflow as tf\n",
    "from tensorflow.keras.layers import Embedding, LSTM, Dense, Bidirectional\n",
    "from tensorflow.keras.models import load_model\n",
    "from tensorflow.keras.utils import to_categorical\n",
    "from tensorflow.keras.preprocessing.sequence import pad_sequences"
   ]
  },
  {
   "cell_type": "markdown",
   "id": "908a4a7e-57e5-496a-9a90-3bde8b7745ef",
   "metadata": {},
   "source": [
    "## Import the Data"
   ]
  },
  {
   "cell_type": "code",
   "execution_count": null,
   "id": "714f9f59-ef79-4338-acc2-01a521bb26ec",
   "metadata": {},
   "outputs": [],
   "source": [
    "path = '/home/alvaro/tf_templates/DATA/Quijote.txt'\n",
    "\n",
    "with open(path, 'r', encoding='utf-8') as file:\n",
    "    text = file.read()"
   ]
  },
  {
   "cell_type": "markdown",
   "id": "14b05e97-ef6d-4700-bfca-0e1f24cdfb29",
   "metadata": {},
   "source": [
    "## Tokenize the Text"
   ]
  },
  {
   "cell_type": "code",
   "execution_count": null,
   "id": "68fbd3c7-f728-4fea-8213-aa5c0fef4c00",
   "metadata": {},
   "outputs": [],
   "source": [
    "tokenizer = tf.keras.preprocessing.text.Tokenizer()\n",
    "tokenizer.fit_on_texts([text])\n",
    "total_words = len(tokenizer.word_index) + 1"
   ]
  },
  {
   "cell_type": "markdown",
   "id": "3b549002-7158-44b7-9e54-fd7df98072c1",
   "metadata": {},
   "source": [
    "## Preprocess Input and Output Data"
   ]
  },
  {
   "cell_type": "code",
   "execution_count": null,
   "id": "45cfc8f8-783f-4aae-b38e-1d6d96e0ac24",
   "metadata": {},
   "outputs": [],
   "source": [
    "input_sequences = []\n",
    "for line in text.split('\\n'):\n",
    "    token_list = tokenizer.texts_to_sequences([line])[0]\n",
    "    for i in range(1, len(token_list)):\n",
    "        n_gram_sequence = token_list[:i+1]\n",
    "        input_sequences.append(n_gram_sequence)\n",
    "\n",
    "max_sequence_length = max([len(seq) for seq in input_sequences])\n",
    "input_sequences = np.array(pad_sequences(input_sequences, maxlen=max_sequence_length, padding='pre'))\n",
    "\n",
    "X, y = input_sequences[:, :-1], input_sequences[:, -1]"
   ]
  },
  {
   "cell_type": "markdown",
   "id": "2f916a73-570d-42cc-9806-c20ff64fb60d",
   "metadata": {},
   "source": [
    "## Create the Model"
   ]
  },
  {
   "cell_type": "code",
   "execution_count": null,
   "id": "8fa9d2e9-88f1-4ebd-9ed2-20d9ff58ece7",
   "metadata": {},
   "outputs": [],
   "source": [
    "model = tf.keras.Sequential()\n",
    "model.add(Embedding(total_words, 250, input_length=max_sequence_length-1))\n",
    "model.add(Bidirectional(LSTM(150, return_sequences=True)))\n",
    "model.add(Bidirectional(LSTM(100)))\n",
    "model.add(Dense(total_words, activation='softmax'))"
   ]
  },
  {
   "cell_type": "code",
   "execution_count": null,
   "id": "698313a6-1c9f-450f-80c6-d6c2a600edb9",
   "metadata": {},
   "outputs": [],
   "source": [
    "model.compile(loss='sparse_categorical_crossentropy', optimizer='adam', metrics=['accuracy'])"
   ]
  },
  {
   "cell_type": "code",
   "execution_count": null,
   "id": "2ba2109a-60b4-496d-93fe-655d46d99bd2",
   "metadata": {},
   "outputs": [],
   "source": [
    "model.fit(X, y, epochs=30, verbose=1)"
   ]
  },
  {
   "cell_type": "markdown",
   "id": "1afa2dbb-58ed-46bf-9ff6-ec05293c899c",
   "metadata": {},
   "source": [
    "## Save"
   ]
  },
  {
   "cell_type": "code",
   "execution_count": null,
   "id": "e6c3d3eb-999c-4edc-9c58-6e236ebeac30",
   "metadata": {},
   "outputs": [],
   "source": [
    "model.save('/home/alvaro/tf_templates/NLP/quijote.keras')"
   ]
  },
  {
   "cell_type": "code",
   "execution_count": null,
   "id": "160d3c88-26bc-4a25-a335-7dd93fa41852",
   "metadata": {},
   "outputs": [],
   "source": [
    "model = load_model('/home/alvaro/tf_templates/NLP/quijote.keras')"
   ]
  },
  {
   "cell_type": "markdown",
   "id": "85730f18-f5be-4396-abc5-e002b8d37e8e",
   "metadata": {},
   "source": [
    "## Generate New Text"
   ]
  },
  {
   "cell_type": "code",
   "execution_count": null,
   "id": "3c052021-2399-4e35-ba00-59aadba34e17",
   "metadata": {},
   "outputs": [],
   "source": [
    "seed_text = \"En un lugar de la Mancha\"\n",
    "next_words = 1000\n",
    "\n",
    "for w in range(next_words):\n",
    "    token_list = tokenizer.texts_to_sequences([seed_text])[0]\n",
    "    token_list = tf.keras.preprocessing.sequence.pad_sequences([token_list], maxlen=max_sequence_length-1, padding='pre')\n",
    "    predicted = np.argmax(model.predict(token_list, verbose=0), axis=1)\n",
    "    output_word = tokenizer.index_word.get(predicted[0], '')\n",
    "    seed_text += \" \" + output_word\n",
    "\n",
    "print(seed_text)"
   ]
  },
  {
   "cell_type": "code",
   "execution_count": null,
   "id": "ebe8ecb5-6a55-4a3c-b43c-edccdb4434f3",
   "metadata": {},
   "outputs": [],
   "source": []
  }
 ],
 "metadata": {
  "kernelspec": {
   "display_name": "Python 3 (ipykernel)",
   "language": "python",
   "name": "python3"
  },
  "language_info": {
   "codemirror_mode": {
    "name": "ipython",
    "version": 3
   },
   "file_extension": ".py",
   "mimetype": "text/x-python",
   "name": "python",
   "nbconvert_exporter": "python",
   "pygments_lexer": "ipython3",
   "version": "3.10.12"
  }
 },
 "nbformat": 4,
 "nbformat_minor": 5
}
