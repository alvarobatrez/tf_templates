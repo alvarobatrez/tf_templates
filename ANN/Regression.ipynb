{
 "cells": [
  {
   "cell_type": "code",
   "execution_count": null,
   "id": "38bda78b-c871-4f34-b5ac-faf2d9383ae8",
   "metadata": {},
   "outputs": [],
   "source": [
    "import numpy as np\n",
    "import pandas as pd\n",
    "import seaborn as sns\n",
    "import matplotlib.pyplot as plt"
   ]
  },
  {
   "cell_type": "code",
   "execution_count": null,
   "id": "ff140369-cf18-46ba-9b1f-ef02eb3962f3",
   "metadata": {},
   "outputs": [],
   "source": [
    "from sklearn.model_selection import train_test_split\n",
    "from sklearn.preprocessing import MinMaxScaler\n",
    "\n",
    "from sklearn.metrics import mean_squared_error, mean_absolute_error, explained_variance_score"
   ]
  },
  {
   "cell_type": "code",
   "execution_count": null,
   "id": "af985a22-35ca-4437-82b5-edf985d2e4e9",
   "metadata": {},
   "outputs": [],
   "source": [
    "from tensorflow.keras.models import Sequential\n",
    "from tensorflow.keras.layers import Dense"
   ]
  },
  {
   "cell_type": "markdown",
   "id": "ad90f02d-a84a-4ab4-8498-7fc03e490942",
   "metadata": {},
   "source": [
    "### Exploratory Analysis"
   ]
  },
  {
   "cell_type": "code",
   "execution_count": null,
   "id": "8ee939d3-47c9-4e53-b396-1f6b279a6017",
   "metadata": {},
   "outputs": [],
   "source": [
    "df = pd.read_csv('C:\\\\Users\\\\alvar\\\\Documents\\\\tf_templates\\\\DATA\\\\kc_house_data.csv')\n",
    "df.head()"
   ]
  },
  {
   "cell_type": "code",
   "execution_count": null,
   "id": "85b9c9b8-9802-4736-bb3e-c8030e794c6d",
   "metadata": {},
   "outputs": [],
   "source": [
    "df.isnull().sum()"
   ]
  },
  {
   "cell_type": "code",
   "execution_count": null,
   "id": "17c1e95d-c8c5-4158-908a-46f8c0ef889d",
   "metadata": {},
   "outputs": [],
   "source": [
    "df.describe().transpose()"
   ]
  },
  {
   "cell_type": "code",
   "execution_count": null,
   "id": "c7e175ba-292b-4125-b8c3-4d6d881164dc",
   "metadata": {},
   "outputs": [],
   "source": [
    "sns.histplot(data=df,x='price');"
   ]
  },
  {
   "cell_type": "code",
   "execution_count": null,
   "id": "ba0ba0c7-e692-405d-b3f2-de9ca9c83db9",
   "metadata": {},
   "outputs": [],
   "source": [
    "sns.countplot(data=df,x='bedrooms');"
   ]
  },
  {
   "cell_type": "code",
   "execution_count": null,
   "id": "d6047067-e797-466d-870d-11d8c08c1bc3",
   "metadata": {},
   "outputs": [],
   "source": [
    "sns.scatterplot(data=df, x='price', y='sqft_living');"
   ]
  },
  {
   "cell_type": "code",
   "execution_count": null,
   "id": "5b853245-320a-4071-92c9-b4947a27b36b",
   "metadata": {},
   "outputs": [],
   "source": [
    "sns.boxplot(data=df, x='bedrooms', y='price');"
   ]
  },
  {
   "cell_type": "code",
   "execution_count": null,
   "id": "206fcb67-f993-4097-8cb4-7a89a7b26dfd",
   "metadata": {},
   "outputs": [],
   "source": [
    "len(df) * 0.01"
   ]
  },
  {
   "cell_type": "code",
   "execution_count": null,
   "id": "4fce17fb-4864-48b3-ac55-4c270e7229d3",
   "metadata": {},
   "outputs": [],
   "source": [
    "df_non_top = df.sort_values('price', ascending=False).iloc[216:]\n",
    "sns.scatterplot(data=df_non_top, x='long', y='lat', hue='price', palette='RdYlGn');"
   ]
  },
  {
   "cell_type": "code",
   "execution_count": null,
   "id": "f87b834a-47dc-482a-849f-42d32680ca67",
   "metadata": {},
   "outputs": [],
   "source": [
    "sns.boxplot(data=df, x='waterfront', y='price');"
   ]
  },
  {
   "cell_type": "code",
   "execution_count": null,
   "id": "b416c0cb-f342-4e9f-9441-fe94c1857a6f",
   "metadata": {},
   "outputs": [],
   "source": [
    "df.info()"
   ]
  },
  {
   "cell_type": "markdown",
   "id": "fccba921-72c3-4946-84a1-d7a85c798c1d",
   "metadata": {},
   "source": [
    "### Data Engineering"
   ]
  },
  {
   "cell_type": "code",
   "execution_count": null,
   "id": "e0d52f79-d129-4bf9-bd63-b4202ad108bb",
   "metadata": {},
   "outputs": [],
   "source": [
    "df = df.drop('id', axis=1)"
   ]
  },
  {
   "cell_type": "code",
   "execution_count": null,
   "id": "7a9ed7d1-82ea-483d-973a-690c71366208",
   "metadata": {},
   "outputs": [],
   "source": [
    "df.head()"
   ]
  },
  {
   "cell_type": "code",
   "execution_count": null,
   "id": "ed5cdafb-400d-4cce-87e7-ec236c027083",
   "metadata": {},
   "outputs": [],
   "source": [
    "df['date'] = pd.to_datetime(df['date'])\n",
    "df['month'] = df['date'].dt.month\n",
    "df['year'] = df['date'].dt.year"
   ]
  },
  {
   "cell_type": "code",
   "execution_count": null,
   "id": "13be294f-805d-40ae-ba3d-a1dfc4eb1e95",
   "metadata": {},
   "outputs": [],
   "source": [
    "sns.boxplot(data=df, x='year', y='price');"
   ]
  },
  {
   "cell_type": "code",
   "execution_count": null,
   "id": "f4b0e359-ef08-4139-87f0-e3da521427fe",
   "metadata": {},
   "outputs": [],
   "source": [
    "df.groupby('month').mean()['price'].plot();"
   ]
  },
  {
   "cell_type": "code",
   "execution_count": null,
   "id": "3005c3a6-c01f-436c-9919-9d0446a93b15",
   "metadata": {},
   "outputs": [],
   "source": [
    "df.groupby('year').mean()['price'].plot();"
   ]
  },
  {
   "cell_type": "code",
   "execution_count": null,
   "id": "4c9e52be-6803-4163-b39d-fb523fa1b5dd",
   "metadata": {},
   "outputs": [],
   "source": [
    "df = df.drop('date', axis=1)"
   ]
  },
  {
   "cell_type": "code",
   "execution_count": null,
   "id": "3f1dac81-51e5-4bc6-bb5b-280529b614c7",
   "metadata": {},
   "outputs": [],
   "source": [
    "df.columns"
   ]
  },
  {
   "cell_type": "code",
   "execution_count": null,
   "id": "479b0be8-48aa-4ea0-a0fa-d72d954192b7",
   "metadata": {},
   "outputs": [],
   "source": [
    "df = df.drop('zipcode', axis=1)"
   ]
  },
  {
   "cell_type": "markdown",
   "id": "2f6e46cc-8bf7-4ef3-8ce6-b7b2af9295f1",
   "metadata": {},
   "source": [
    "### Scaling and Traing-Test Split"
   ]
  },
  {
   "cell_type": "code",
   "execution_count": null,
   "id": "b349987d-98b1-46ba-9cff-24f3ed2af656",
   "metadata": {},
   "outputs": [],
   "source": [
    "X = df.drop('price', axis=1).values\n",
    "y = df['price'].values"
   ]
  },
  {
   "cell_type": "code",
   "execution_count": null,
   "id": "45fa02cf-d38c-460b-8c79-d16ebfd5d57c",
   "metadata": {},
   "outputs": [],
   "source": [
    "X_train, X_test, y_train, y_test = train_test_split(X, y, test_size=0.3, random_state=101)"
   ]
  },
  {
   "cell_type": "code",
   "execution_count": null,
   "id": "28b5042e-9d3f-4cd6-bb29-96470a543641",
   "metadata": {},
   "outputs": [],
   "source": [
    "scaler = MinMaxScaler()\n",
    "# To prevent data leakage from the test set, we only fit our scaler to the training set\n",
    "X_train = scaler.fit_transform(X_train)\n",
    "X_test = scaler.transform(X_test)"
   ]
  },
  {
   "cell_type": "code",
   "execution_count": null,
   "id": "bf609d82-edcf-4168-8331-981cfaeb2812",
   "metadata": {},
   "outputs": [],
   "source": [
    "X_train.shape"
   ]
  },
  {
   "cell_type": "code",
   "execution_count": null,
   "id": "5def32f4-7ace-4dd4-a1db-58ff19fe7445",
   "metadata": {},
   "outputs": [],
   "source": [
    "X_test.shape"
   ]
  },
  {
   "cell_type": "markdown",
   "id": "04150daf-eda3-45eb-a904-293a0f2aafd3",
   "metadata": {},
   "source": [
    "### Creating a Model and Training"
   ]
  },
  {
   "cell_type": "code",
   "execution_count": null,
   "id": "601abfdf-9fb5-4d79-b399-120657613056",
   "metadata": {},
   "outputs": [],
   "source": [
    "model = Sequential()\n",
    "\n",
    "model.add(Dense(units=19, activation='relu'))\n",
    "model.add(Dense(units=19, activation='relu'))\n",
    "model.add(Dense(units=19, activation='relu'))\n",
    "model.add(Dense(units=19, activation='relu'))\n",
    "model.add(Dense(units=1, activation='linear'))"
   ]
  },
  {
   "cell_type": "markdown",
   "id": "222fe2c3-3d6d-4ca1-bbf6-fb22d2cc2f78",
   "metadata": {},
   "source": [
    "#### Choosing an optimizer and loss\n",
    "\n",
    "    # For a multi-class classification problem\n",
    "    model.compile(optimizer='rmsprop',\n",
    "                  loss='categorical_crossentropy',\n",
    "                  metrics=['accuracy'])\n",
    "\n",
    "    # For a binary classification problem\n",
    "    model.compile(optimizer='rmsprop',\n",
    "                  loss='binary_crossentropy',\n",
    "                  metrics=['accuracy'])\n",
    "\n",
    "    # For a mean squared error regression problem\n",
    "    model.compile(optimizer='rmsprop',\n",
    "                  loss='mse')"
   ]
  },
  {
   "cell_type": "code",
   "execution_count": null,
   "id": "7e5620ef-596f-48f1-8baa-f63142158d05",
   "metadata": {},
   "outputs": [],
   "source": [
    "model.compile(optimizer='rmsprop', loss='mse')"
   ]
  },
  {
   "cell_type": "code",
   "execution_count": null,
   "id": "acf7e8b1-1cb6-42c4-9d27-443b741e9749",
   "metadata": {},
   "outputs": [],
   "source": [
    "model.fit(x=X_train, y=y_train, validation_data=(X_test, y_test), batch_size=128, epochs=400)"
   ]
  },
  {
   "cell_type": "markdown",
   "id": "5b9dc794-0bca-4544-a01d-8386f85d4eb7",
   "metadata": {},
   "source": [
    "### Evaluation"
   ]
  },
  {
   "cell_type": "code",
   "execution_count": null,
   "id": "671432dc-ac4b-4577-a2ec-f89054785c42",
   "metadata": {},
   "outputs": [],
   "source": [
    "losses = pd.DataFrame(model.history.history)\n",
    "losses.plot();"
   ]
  },
  {
   "cell_type": "code",
   "execution_count": null,
   "id": "1627eb0e-65fb-4074-8c23-9fbe4f2e80d9",
   "metadata": {},
   "outputs": [],
   "source": [
    "predictions = model.predict(X_test)"
   ]
  },
  {
   "cell_type": "code",
   "execution_count": null,
   "id": "f78a74ae-b84b-4800-8dd1-b179deee92c1",
   "metadata": {},
   "outputs": [],
   "source": [
    "mean_absolute_error(y_test, predictions)"
   ]
  },
  {
   "cell_type": "code",
   "execution_count": null,
   "id": "d2c9908f-4ffd-42f2-a2ee-8e1181afba3e",
   "metadata": {},
   "outputs": [],
   "source": [
    "rmse = np.sqrt(mean_squared_error(y_test, predictions))\n",
    "rmse"
   ]
  },
  {
   "cell_type": "code",
   "execution_count": null,
   "id": "c5a4af13-ffe9-4eb6-91ce-f60812cfdec0",
   "metadata": {},
   "outputs": [],
   "source": [
    "explained_variance_score(y_test, predictions)"
   ]
  },
  {
   "cell_type": "code",
   "execution_count": null,
   "id": "4c8c2eb2-5de6-48b4-af7c-d4f337ef81e4",
   "metadata": {},
   "outputs": [],
   "source": [
    "plt.scatter(y_test, predictions);\n",
    "plt.plot(y_test, y_test, 'r');"
   ]
  },
  {
   "cell_type": "code",
   "execution_count": null,
   "id": "406d24e2-3a78-4d2a-b084-9df3485ca503",
   "metadata": {},
   "outputs": [],
   "source": [
    "y_test.shape"
   ]
  },
  {
   "cell_type": "code",
   "execution_count": null,
   "id": "404b191a-2fac-481c-b7f6-1ffe2fbb2808",
   "metadata": {},
   "outputs": [],
   "source": [
    "errors = y_test.reshape(6480,1) - predictions\n",
    "sns.histplot(errors);"
   ]
  },
  {
   "cell_type": "markdown",
   "id": "17810924-abe9-4ec5-8991-d01f5d1e9d14",
   "metadata": {},
   "source": [
    "#### Predicting a new item"
   ]
  },
  {
   "cell_type": "code",
   "execution_count": null,
   "id": "fc839c2c-97a4-435a-9510-d6ea66ab6db5",
   "metadata": {},
   "outputs": [],
   "source": [
    "house_num = np.random.randint(100)\n",
    "single_house = df.drop('price', axis=1).iloc[house_num]"
   ]
  },
  {
   "cell_type": "code",
   "execution_count": null,
   "id": "cba264d5-f3d0-4bba-aa62-6491af873279",
   "metadata": {},
   "outputs": [],
   "source": [
    "single_house = scaler.transform(single_house.values.reshape(-1,19))\n",
    "single_house"
   ]
  },
  {
   "cell_type": "code",
   "execution_count": null,
   "id": "13573a4c-4aa4-4f3a-82e4-8d5d6936d473",
   "metadata": {},
   "outputs": [],
   "source": [
    "prediction = model.predict(single_house)\n",
    "prediction"
   ]
  },
  {
   "cell_type": "code",
   "execution_count": null,
   "id": "cdaccbde-092e-40a4-b0a3-1e09ea7d03da",
   "metadata": {},
   "outputs": [],
   "source": [
    "df.iloc[house_num]"
   ]
  },
  {
   "cell_type": "code",
   "execution_count": null,
   "id": "958e730c-d6f9-4f4c-b932-6a18d2b11d80",
   "metadata": {},
   "outputs": [],
   "source": []
  }
 ],
 "metadata": {
  "kernelspec": {
   "display_name": "Python 3 (ipykernel)",
   "language": "python",
   "name": "python3"
  },
  "language_info": {
   "codemirror_mode": {
    "name": "ipython",
    "version": 3
   },
   "file_extension": ".py",
   "mimetype": "text/x-python",
   "name": "python",
   "nbconvert_exporter": "python",
   "pygments_lexer": "ipython3",
   "version": "3.12.2"
  }
 },
 "nbformat": 4,
 "nbformat_minor": 5
}
