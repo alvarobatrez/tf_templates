{
 "cells": [
  {
   "cell_type": "code",
   "execution_count": null,
   "id": "fd74840a-ff95-4d9f-9f2f-30638ee07482",
   "metadata": {},
   "outputs": [],
   "source": [
    "import numpy as np\n",
    "import pandas as pd\n",
    "import seaborn as sns\n",
    "import matplotlib.pyplot as plt"
   ]
  },
  {
   "cell_type": "code",
   "execution_count": null,
   "id": "1b51a3ee-d2c9-4d75-bcab-787c3e59e570",
   "metadata": {},
   "outputs": [],
   "source": [
    "from sklearn.model_selection import train_test_split\n",
    "from sklearn.preprocessing import MinMaxScaler\n",
    "\n",
    "from sklearn.metrics import classification_report, confusion_matrix"
   ]
  },
  {
   "cell_type": "code",
   "execution_count": null,
   "id": "e7cfb76a-870b-4bee-836c-9a5c9adcc67b",
   "metadata": {},
   "outputs": [],
   "source": [
    "from tensorflow.keras.models import Sequential\n",
    "from tensorflow.keras.layers import Dense, Dropout\n",
    "from tensorflow.keras.callbacks import EarlyStopping"
   ]
  },
  {
   "cell_type": "markdown",
   "id": "ff5d0fea-1c02-4f61-bbf0-1a70f7397ff0",
   "metadata": {},
   "source": [
    "## Exploratory Analysis"
   ]
  },
  {
   "cell_type": "code",
   "execution_count": null,
   "id": "fe164096-8858-49c1-8c63-3cc79c72fa00",
   "metadata": {},
   "outputs": [],
   "source": [
    "df = pd.read_csv('/home/alvaro/tf_templates/DATA/cancer_classification.csv')\n",
    "df.info()"
   ]
  },
  {
   "cell_type": "code",
   "execution_count": null,
   "id": "48a0c98a-9b03-4bff-813d-c9e32bb624b0",
   "metadata": {},
   "outputs": [],
   "source": [
    "df.describe().transpose()"
   ]
  },
  {
   "cell_type": "code",
   "execution_count": null,
   "id": "67c215e2-7ed4-4710-a634-5d97873282f1",
   "metadata": {},
   "outputs": [],
   "source": [
    "sns.countplot(data=df, x='benign_0__mal_1');"
   ]
  },
  {
   "cell_type": "code",
   "execution_count": null,
   "id": "1ed0692b-b033-4d2c-b03b-7cf98b9590d5",
   "metadata": {},
   "outputs": [],
   "source": [
    "sns.heatmap(df.corr());"
   ]
  },
  {
   "cell_type": "code",
   "execution_count": null,
   "id": "dc0523f0-d3e6-44d7-821c-9f67e3805f3c",
   "metadata": {},
   "outputs": [],
   "source": [
    "df.corr()['benign_0__mal_1'].sort_values()"
   ]
  },
  {
   "cell_type": "code",
   "execution_count": null,
   "id": "0cdc9cc5-69fe-4cf1-87fb-8c1fff090378",
   "metadata": {},
   "outputs": [],
   "source": [
    "df.corr()['benign_0__mal_1'][:-1].sort_values().plot(kind='bar');"
   ]
  },
  {
   "cell_type": "markdown",
   "id": "2c262683-6351-49bb-af70-d5df780293f6",
   "metadata": {},
   "source": [
    "## Scaling and Traing-Test Split"
   ]
  },
  {
   "cell_type": "code",
   "execution_count": null,
   "id": "c72e7bf6-306b-4112-b309-42db0a0879e3",
   "metadata": {},
   "outputs": [],
   "source": [
    "X = df.drop('benign_0__mal_1', axis=1).values\n",
    "y = df['benign_0__mal_1'].values"
   ]
  },
  {
   "cell_type": "code",
   "execution_count": null,
   "id": "e169bfd0-cdd8-475e-9fa4-916e049822dc",
   "metadata": {},
   "outputs": [],
   "source": [
    "X_train, X_test, y_train, y_test = train_test_split(X, y, test_size=0.3, random_state=101)"
   ]
  },
  {
   "cell_type": "code",
   "execution_count": null,
   "id": "21993f36-0fa5-4430-b55c-07964b5dd33f",
   "metadata": {},
   "outputs": [],
   "source": [
    "scaler = MinMaxScaler()\n",
    "X_train = scaler.fit_transform(X_train)\n",
    "X_test = scaler.transform(X_test)"
   ]
  },
  {
   "cell_type": "markdown",
   "id": "25100c28-f022-4807-98a5-7cdacba461ec",
   "metadata": {},
   "source": [
    "## Creating the Model and Training"
   ]
  },
  {
   "cell_type": "code",
   "execution_count": null,
   "id": "b035a1e8-b608-41b1-a86c-330d546f2674",
   "metadata": {},
   "outputs": [],
   "source": [
    "X_train.shape"
   ]
  },
  {
   "cell_type": "code",
   "execution_count": null,
   "id": "1e2ad63a-6cb5-4de3-b940-ae19406aad96",
   "metadata": {},
   "outputs": [],
   "source": [
    "X_test.shape"
   ]
  },
  {
   "cell_type": "markdown",
   "id": "bf0ce896-46e9-4335-b151-a26aba486e49",
   "metadata": {},
   "source": [
    "### Example 1: Overfitting"
   ]
  },
  {
   "cell_type": "code",
   "execution_count": null,
   "id": "c12d154e-d6d3-4407-962b-50a7e60a4305",
   "metadata": {},
   "outputs": [],
   "source": [
    "model = Sequential()\n",
    "\n",
    "model.add(Dense(units=30, activation='relu'))\n",
    "model.add(Dense(units=15, activation='relu'))\n",
    "model.add(Dense(units=1, activation='sigmoid'))"
   ]
  },
  {
   "cell_type": "code",
   "execution_count": null,
   "id": "db51a6b7-57a5-4b8e-9f80-c93fb64ebb54",
   "metadata": {},
   "outputs": [],
   "source": [
    "model.compile(loss='binary_crossentropy', optimizer='adam')"
   ]
  },
  {
   "cell_type": "code",
   "execution_count": null,
   "id": "e64759bb-9408-400e-8c5e-b28de769de71",
   "metadata": {},
   "outputs": [],
   "source": [
    "model.fit(x=X_train, y=y_train, validation_data=(X_test, y_test), batch_size=128, epochs=600)"
   ]
  },
  {
   "cell_type": "code",
   "execution_count": null,
   "id": "819fd528-9705-4fd7-b3a7-0412747d2ef0",
   "metadata": {},
   "outputs": [],
   "source": [
    "losses = pd.DataFrame(model.history.history)\n",
    "losses.plot();"
   ]
  },
  {
   "cell_type": "markdown",
   "id": "ca82955b-370a-4358-89e4-9fe57ef8d1cc",
   "metadata": {},
   "source": [
    "### Example 2: Early Stop"
   ]
  },
  {
   "cell_type": "code",
   "execution_count": null,
   "id": "74e16d76-2304-4fc4-8b01-25143cb7e191",
   "metadata": {},
   "outputs": [],
   "source": [
    "model = Sequential()\n",
    "\n",
    "model.add(Dense(units=30, activation='relu'))\n",
    "model.add(Dense(units=15, activation='relu'))\n",
    "model.add(Dense(units=1, activation='sigmoid'))"
   ]
  },
  {
   "cell_type": "code",
   "execution_count": null,
   "id": "30e85e06-155a-4b49-baaf-61b6e20d578e",
   "metadata": {},
   "outputs": [],
   "source": [
    "model.compile(loss='binary_crossentropy', optimizer='adam')"
   ]
  },
  {
   "cell_type": "code",
   "execution_count": null,
   "id": "f45ad80e-5bf3-425f-9c1b-c6e5d1cdc2af",
   "metadata": {},
   "outputs": [],
   "source": [
    "early_stop = EarlyStopping(monitor='val_loss', patience=25)"
   ]
  },
  {
   "cell_type": "code",
   "execution_count": null,
   "id": "1449e2eb-1d9e-4e18-817b-68e9c1ed0f5c",
   "metadata": {},
   "outputs": [],
   "source": [
    "model.fit(x=X_train, y=y_train, validation_data=(X_test, y_test), callbacks=[early_stop], batch_size=128, epochs=600)"
   ]
  },
  {
   "cell_type": "code",
   "execution_count": null,
   "id": "f04ad876-4cac-4f5d-8cc8-5ec87d198272",
   "metadata": {},
   "outputs": [],
   "source": [
    "losses = pd.DataFrame(model.history.history)\n",
    "losses.plot();"
   ]
  },
  {
   "cell_type": "markdown",
   "id": "7f97d432-29bd-493b-b143-de502982d0b8",
   "metadata": {},
   "source": [
    "### Example 3: Dropout and Best Weights"
   ]
  },
  {
   "cell_type": "code",
   "execution_count": null,
   "id": "ff779535-dbb5-407c-bf56-ae1283c3910c",
   "metadata": {},
   "outputs": [],
   "source": [
    "model = Sequential()\n",
    "\n",
    "model.add(Dense(units=30, activation='relu'))\n",
    "model.add(Dropout(0.5))\n",
    "model.add(Dense(units=15, activation='relu'))\n",
    "model.add(Dropout(0.5))\n",
    "model.add(Dense(units=1, activation='sigmoid'))"
   ]
  },
  {
   "cell_type": "code",
   "execution_count": null,
   "id": "4493cb8a-f099-4dc4-9ade-f763c14929ac",
   "metadata": {},
   "outputs": [],
   "source": [
    "model.compile(loss='binary_crossentropy', optimizer='rmsprop')"
   ]
  },
  {
   "cell_type": "code",
   "execution_count": null,
   "id": "634b0082-6aac-4bb4-b1f6-1073a0b3868b",
   "metadata": {},
   "outputs": [],
   "source": [
    "early_stop = EarlyStopping(monitor='val_loss', patience=25, restore_best_weights=True)"
   ]
  },
  {
   "cell_type": "code",
   "execution_count": null,
   "id": "4caba7ba-acba-40ed-ad02-3631c9ea2c37",
   "metadata": {},
   "outputs": [],
   "source": [
    "model.fit(x=X_train, y=y_train, validation_data=(X_test, y_test), callbacks=[early_stop], batch_size=128, epochs=600)"
   ]
  },
  {
   "cell_type": "markdown",
   "id": "666c3c2f-6bd0-4ebd-b518-b7f96874d082",
   "metadata": {},
   "source": [
    "## Evaluation"
   ]
  },
  {
   "cell_type": "code",
   "execution_count": null,
   "id": "26cf0720-661a-402f-a109-6083bb1ad17d",
   "metadata": {},
   "outputs": [],
   "source": [
    "losses = pd.DataFrame(model.history.history)\n",
    "losses.plot();"
   ]
  },
  {
   "cell_type": "code",
   "execution_count": null,
   "id": "afea888d-9591-48da-9fa6-c7c500db9eb7",
   "metadata": {},
   "outputs": [],
   "source": [
    "# binary classification\n",
    "predictions = (model.predict(X_test) > 0.5).astype(\"int32\")"
   ]
  },
  {
   "cell_type": "code",
   "execution_count": null,
   "id": "b7d0c430-2944-4904-bc4f-cc30b0225c32",
   "metadata": {},
   "outputs": [],
   "source": [
    "print(classification_report(y_test, predictions))"
   ]
  },
  {
   "cell_type": "code",
   "execution_count": null,
   "id": "828fc4c0-b272-4d28-bddd-2ace0d7df717",
   "metadata": {},
   "outputs": [],
   "source": [
    "print(confusion_matrix(y_test, predictions))"
   ]
  },
  {
   "cell_type": "code",
   "execution_count": null,
   "id": "2ba126b1-69cd-4d91-b107-4e3ac31ed625",
   "metadata": {},
   "outputs": [],
   "source": []
  }
 ],
 "metadata": {
  "kernelspec": {
   "display_name": "Python 3 (ipykernel)",
   "language": "python",
   "name": "python3"
  },
  "language_info": {
   "codemirror_mode": {
    "name": "ipython",
    "version": 3
   },
   "file_extension": ".py",
   "mimetype": "text/x-python",
   "name": "python",
   "nbconvert_exporter": "python",
   "pygments_lexer": "ipython3",
   "version": "3.12.3"
  }
 },
 "nbformat": 4,
 "nbformat_minor": 5
}
