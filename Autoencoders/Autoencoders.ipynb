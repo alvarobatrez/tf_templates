{
 "cells": [
  {
   "cell_type": "code",
   "execution_count": null,
   "id": "0797e94b-d507-4e61-8635-36d6eaf57158",
   "metadata": {},
   "outputs": [],
   "source": [
    "import numpy as np\n",
    "import pandas as pd\n",
    "import matplotlib.pyplot as plt"
   ]
  },
  {
   "cell_type": "code",
   "execution_count": null,
   "id": "51bfbf30-2e3f-479b-b257-32b8e160ae99",
   "metadata": {},
   "outputs": [],
   "source": [
    "from tensorflow.keras.datasets import mnist"
   ]
  },
  {
   "cell_type": "code",
   "execution_count": null,
   "id": "0d1bb7d4-86bf-47c2-a0c6-458faee729b9",
   "metadata": {},
   "outputs": [],
   "source": [
    "from tensorflow.keras.models import Sequential\n",
    "from tensorflow.keras.layers import Dense, Flatten, Reshape\n",
    "from tensorflow.keras.optimizers import SGD\n",
    "from tensorflow.keras import Input"
   ]
  },
  {
   "cell_type": "code",
   "execution_count": null,
   "id": "0d7755f7-4655-4402-aa58-f9ec0f52c622",
   "metadata": {},
   "outputs": [],
   "source": [
    "from tensorflow.keras.layers import GaussianNoise"
   ]
  },
  {
   "cell_type": "markdown",
   "id": "c7bb40b4-dd85-4e9a-a656-b7e08e7ca58b",
   "metadata": {},
   "source": [
    "## Import Data"
   ]
  },
  {
   "cell_type": "code",
   "execution_count": null,
   "id": "6f583bc5-7041-479f-a354-387d432b88d1",
   "metadata": {},
   "outputs": [],
   "source": [
    "(X_train, y_train), (X_test, y_test) = mnist.load_data()"
   ]
  },
  {
   "cell_type": "code",
   "execution_count": null,
   "id": "cf6f5764-1fdd-4824-997a-c3f97338230a",
   "metadata": {},
   "outputs": [],
   "source": [
    "X_train.shape"
   ]
  },
  {
   "cell_type": "code",
   "execution_count": null,
   "id": "d3b7ec0d-aca6-44da-9a92-964c2ed60143",
   "metadata": {},
   "outputs": [],
   "source": [
    "X_train.max()"
   ]
  },
  {
   "cell_type": "code",
   "execution_count": null,
   "id": "6a998dab-e106-4205-8274-b2923c296b83",
   "metadata": {},
   "outputs": [],
   "source": [
    "X_train, X_test = X_train.astype(np.float32)/255, X_test.astype(np.float32)/255.0"
   ]
  },
  {
   "cell_type": "markdown",
   "id": "3ab0db04-dd2d-4973-a0ae-a7bb9064114d",
   "metadata": {},
   "source": [
    "## Creating New Images"
   ]
  },
  {
   "cell_type": "code",
   "execution_count": null,
   "id": "513a09cf-6217-4661-824e-64f07e1c2c76",
   "metadata": {},
   "outputs": [],
   "source": [
    "encoder = Sequential()\n",
    "encoder.add(Input(shape=(28,28)))\n",
    "encoder.add(Flatten())\n",
    "encoder.add(Dense(units=400, activation='relu'))\n",
    "encoder.add(Dense(units=200, activation='relu'))\n",
    "encoder.add(Dense(units=100, activation='relu'))\n",
    "encoder.add(Dense(units=50, activation='relu'))\n",
    "encoder.add(Dense(units=25, activation='relu'))"
   ]
  },
  {
   "cell_type": "code",
   "execution_count": null,
   "id": "1692d140-addb-49c7-8183-5723f5468e2f",
   "metadata": {},
   "outputs": [],
   "source": [
    "decoder = Sequential()\n",
    "decoder.add(Input(shape=(25,)))\n",
    "decoder.add(Dense(units=50, activation='relu'))\n",
    "decoder.add(Dense(units=100, activation='relu'))\n",
    "decoder.add(Dense(units=200, activation='relu'))\n",
    "decoder.add(Dense(units=400, activation='relu'))\n",
    "decoder.add(Dense(units=28*28, activation='sigmoid'))\n",
    "decoder.add(Reshape((28, 28)))"
   ]
  },
  {
   "cell_type": "code",
   "execution_count": null,
   "id": "be96edd0-96fc-4bd6-b460-46aade6f46b6",
   "metadata": {},
   "outputs": [],
   "source": [
    "autoencoder = Sequential((encoder, decoder))\n",
    "autoencoder.compile(loss='binary_crossentropy', optimizer=SGD(learning_rate=1.5), metrics=['accuracy'])"
   ]
  },
  {
   "cell_type": "code",
   "execution_count": null,
   "id": "807eaa60-de23-4fc2-a5a3-6964fe762102",
   "metadata": {},
   "outputs": [],
   "source": [
    "autoencoder.fit(x=X_train, y=X_train, epochs=5, validation_data=(X_test, X_test))"
   ]
  },
  {
   "cell_type": "code",
   "execution_count": null,
   "id": "b3a5dbc3-f674-4d68-a462-8ca0b7a262f6",
   "metadata": {},
   "outputs": [],
   "source": [
    "plt.imshow(X_test[0]);"
   ]
  },
  {
   "cell_type": "code",
   "execution_count": null,
   "id": "0c4ea0e0-9722-4f03-8cf3-b384bb95f811",
   "metadata": {},
   "outputs": [],
   "source": [
    "new_image = autoencoder.predict(X_test[:50])\n",
    "plt.imshow(new_image[0]);"
   ]
  },
  {
   "cell_type": "markdown",
   "id": "8008f120-5d74-434b-b207-3f7de9a3e6c9",
   "metadata": {},
   "source": [
    "## Denoising Images"
   ]
  },
  {
   "cell_type": "code",
   "execution_count": null,
   "id": "1ace47c9-c5ea-4e1d-9cfb-47323cd43497",
   "metadata": {},
   "outputs": [],
   "source": [
    "sample = GaussianNoise(0.2)"
   ]
  },
  {
   "cell_type": "code",
   "execution_count": null,
   "id": "e4b770b4-a899-473c-a5e6-396b3cb89bf7",
   "metadata": {},
   "outputs": [],
   "source": [
    "noisey_img = sample(X_test[0], training=True)\n",
    "plt.imshow(noisey_img);"
   ]
  },
  {
   "cell_type": "code",
   "execution_count": null,
   "id": "2fc84e9c-91cf-408f-8bc5-65012a097205",
   "metadata": {},
   "outputs": [],
   "source": [
    "encoder = Sequential()\n",
    "encoder.add(Input(shape=(28,28)))\n",
    "encoder.add(Flatten())\n",
    "encoder.add(GaussianNoise(0.2))\n",
    "encoder.add(Dense(units=400, activation='relu'))\n",
    "encoder.add(Dense(units=200, activation='relu'))\n",
    "encoder.add(Dense(units=100, activation='relu'))\n",
    "encoder.add(Dense(units=50, activation='relu'))\n",
    "encoder.add(Dense(units=25, activation='relu'))"
   ]
  },
  {
   "cell_type": "code",
   "execution_count": null,
   "id": "eeafa327-2069-4d19-859b-bedc1ed09af7",
   "metadata": {},
   "outputs": [],
   "source": [
    "decoder = Sequential()\n",
    "decoder.add(Input(shape=(25,)))\n",
    "decoder.add(Dense(units=50, activation='relu'))\n",
    "decoder.add(Dense(units=100, activation='relu'))\n",
    "decoder.add(Dense(units=200, activation='relu'))\n",
    "decoder.add(Dense(units=400, activation='relu'))\n",
    "decoder.add(Dense(units=28*28, activation='sigmoid'))\n",
    "decoder.add(Reshape((28, 28)))"
   ]
  },
  {
   "cell_type": "code",
   "execution_count": null,
   "id": "38ef564f-afe7-44fa-9777-eb2786649eba",
   "metadata": {},
   "outputs": [],
   "source": [
    "autoencoder = Sequential((encoder, decoder))\n",
    "autoencoder.compile(loss='binary_crossentropy', optimizer='adam', metrics=['accuracy'])"
   ]
  },
  {
   "cell_type": "code",
   "execution_count": null,
   "id": "0a659128-f2de-401b-8ccc-764907731368",
   "metadata": {},
   "outputs": [],
   "source": [
    "autoencoder.fit(x=X_train, y=X_train, epochs=8, validation_data=(X_test, X_test))"
   ]
  },
  {
   "cell_type": "code",
   "execution_count": null,
   "id": "086bbc00-f507-4795-b47c-6a3b4dbd39a8",
   "metadata": {},
   "outputs": [],
   "source": [
    "plt.imshow(X_test[1]);"
   ]
  },
  {
   "cell_type": "code",
   "execution_count": null,
   "id": "2a118011-c660-4f8e-bec5-b2c03ca76aca",
   "metadata": {},
   "outputs": [],
   "source": [
    "noisey_images = sample(X_test[:10], training=True)\n",
    "plt.imshow(noisey_images[1]);"
   ]
  },
  {
   "cell_type": "code",
   "execution_count": null,
   "id": "89a395d4-59ea-4ca1-9cd4-0dcd62cce8ed",
   "metadata": {},
   "outputs": [],
   "source": [
    "denoised_images = autoencoder.predict(noisey_images[:10])\n",
    "plt.imshow(denoised_images[1]);"
   ]
  },
  {
   "cell_type": "code",
   "execution_count": null,
   "id": "149afb0b-c5c7-4d60-a314-02fa1cd2135f",
   "metadata": {},
   "outputs": [],
   "source": []
  }
 ],
 "metadata": {
  "kernelspec": {
   "display_name": "Python 3 (ipykernel)",
   "language": "python",
   "name": "python3"
  },
  "language_info": {
   "codemirror_mode": {
    "name": "ipython",
    "version": 3
   },
   "file_extension": ".py",
   "mimetype": "text/x-python",
   "name": "python",
   "nbconvert_exporter": "python",
   "pygments_lexer": "ipython3",
   "version": "3.12.3"
  }
 },
 "nbformat": 4,
 "nbformat_minor": 5
}
