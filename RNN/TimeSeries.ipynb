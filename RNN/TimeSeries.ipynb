{
 "cells": [
  {
   "cell_type": "code",
   "execution_count": null,
   "id": "7c082449-1132-4ecd-9bba-7c78af4886db",
   "metadata": {},
   "outputs": [],
   "source": [
    "import numpy as np\n",
    "import pandas as pd\n",
    "import matplotlib.pyplot as plt"
   ]
  },
  {
   "cell_type": "code",
   "execution_count": null,
   "id": "c974a00f-1f62-4fbd-8d66-0dd579705a16",
   "metadata": {},
   "outputs": [],
   "source": [
    "from sklearn.preprocessing import MinMaxScaler"
   ]
  },
  {
   "cell_type": "code",
   "execution_count": null,
   "id": "ddbf805b-bb53-4bcb-9d3a-b201ecbe3441",
   "metadata": {},
   "outputs": [],
   "source": [
    "from tensorflow.keras.preprocessing.sequence import TimeseriesGenerator\n",
    "from tensorflow.keras.models import Sequential\n",
    "from tensorflow.keras import Input\n",
    "from tensorflow.keras.layers import Dense, LSTM\n",
    "from tensorflow.keras.callbacks import EarlyStopping"
   ]
  },
  {
   "cell_type": "code",
   "execution_count": null,
   "id": "e19d278a-63c3-46b8-97e1-1f2498e60ac0",
   "metadata": {},
   "outputs": [],
   "source": [
    "import warnings"
   ]
  },
  {
   "cell_type": "markdown",
   "id": "0f3d162e-117b-479d-8df0-955b65e53d10",
   "metadata": {},
   "source": [
    "## Data Visualization"
   ]
  },
  {
   "cell_type": "code",
   "execution_count": null,
   "id": "fdfbd4ea-198f-437d-81b7-dce47dd80a6a",
   "metadata": {},
   "outputs": [],
   "source": [
    "df = pd.read_csv('C:\\\\Users\\\\alvar\\\\Documents\\\\tf_templates\\\\DATA\\\\RSCCASN.csv', index_col='DATE', parse_dates=True)\n",
    "df.head()"
   ]
  },
  {
   "cell_type": "code",
   "execution_count": null,
   "id": "15e48a73-031a-433b-84be-775226993706",
   "metadata": {},
   "outputs": [],
   "source": [
    "df.columns = ['Sales']"
   ]
  },
  {
   "cell_type": "code",
   "execution_count": null,
   "id": "94238120-3d9b-4d0d-9c2d-8a598d3e8dbc",
   "metadata": {},
   "outputs": [],
   "source": [
    "df.plot(figsize=(12,6));"
   ]
  },
  {
   "cell_type": "markdown",
   "id": "d6b702f1-ca9c-4d93-9c34-7e236ef87cbe",
   "metadata": {},
   "source": [
    "## Train Test Split"
   ]
  },
  {
   "cell_type": "code",
   "execution_count": null,
   "id": "d831bb8d-8dc7-46a3-b679-a82b6121dd46",
   "metadata": {},
   "outputs": [],
   "source": [
    "test_size = 18 # data is monthly, 18 = 1.5 years\n",
    "test_ind = len(df) - test_size"
   ]
  },
  {
   "cell_type": "code",
   "execution_count": null,
   "id": "118874f4-1bd7-4995-a8dd-c492d230d04f",
   "metadata": {},
   "outputs": [],
   "source": [
    "train = df.iloc[:test_ind]\n",
    "test = df.iloc[test_ind:]"
   ]
  },
  {
   "cell_type": "markdown",
   "id": "dfb33a46-bcc1-422d-95db-ae8578f28a0a",
   "metadata": {},
   "source": [
    "## Scale Data"
   ]
  },
  {
   "cell_type": "code",
   "execution_count": null,
   "id": "c6d3c25f-764e-4e83-bd14-3ffe86b70e11",
   "metadata": {},
   "outputs": [],
   "source": [
    "scaler = MinMaxScaler()\n",
    "\n",
    "scaled_train = scaler.fit_transform(train)\n",
    "scaled_test = scaler.transform(test)"
   ]
  },
  {
   "cell_type": "markdown",
   "id": "e84c4a41-7aa2-4f4d-b37c-cc3b2ed9c8c7",
   "metadata": {},
   "source": [
    "## Time Series Generator"
   ]
  },
  {
   "cell_type": "code",
   "execution_count": null,
   "id": "5ee1619c-8e12-4fd5-a905-ce511190982d",
   "metadata": {},
   "outputs": [],
   "source": [
    "length = 12\n",
    "batch_size = 1\n",
    "generator = TimeseriesGenerator(scaled_train, scaled_train, length=length, batch_size=batch_size)\n",
    "validation_generator = TimeseriesGenerator(scaled_test, scaled_test, length=length, batch_size=batch_size)"
   ]
  },
  {
   "cell_type": "markdown",
   "id": "1a5407fd-4823-4ef3-b35a-4ad76844ae35",
   "metadata": {},
   "source": [
    "## LSTM Model and Training"
   ]
  },
  {
   "cell_type": "code",
   "execution_count": null,
   "id": "f3e9b4c1-aa2d-4a15-999e-359dd6300805",
   "metadata": {},
   "outputs": [],
   "source": [
    "n_features = 1"
   ]
  },
  {
   "cell_type": "code",
   "execution_count": null,
   "id": "12201d84-5100-499f-ba63-4adcef4e9fc3",
   "metadata": {},
   "outputs": [],
   "source": [
    "model = Sequential()\n",
    "\n",
    "model.add(Input(shape=(length, n_features)))\n",
    "\n",
    "model.add(LSTM(units=100, activation='relu'))\n",
    "model.add(Dense(1))"
   ]
  },
  {
   "cell_type": "code",
   "execution_count": null,
   "id": "e8322fb8-47d7-4e23-ad21-501d021d428c",
   "metadata": {},
   "outputs": [],
   "source": [
    "model.compile(optimizer='adam', loss='mse')"
   ]
  },
  {
   "cell_type": "code",
   "execution_count": null,
   "id": "5ec0d29e-026e-4209-b3e9-012accf6f74f",
   "metadata": {},
   "outputs": [],
   "source": [
    "early_stop = EarlyStopping(monitor='val_loss', patience=3, restore_best_weights=True)"
   ]
  },
  {
   "cell_type": "code",
   "execution_count": null,
   "id": "7c7ad6e5-5a35-425d-b12c-6a755356f1b7",
   "metadata": {},
   "outputs": [],
   "source": [
    "warnings.filterwarnings('ignore')\n",
    "\n",
    "model.fit(generator, epochs=15, validation_data=validation_generator, callbacks=[early_stop])"
   ]
  },
  {
   "cell_type": "markdown",
   "id": "a449c32a-8565-4d88-82c7-b88487cc7e91",
   "metadata": {},
   "source": [
    "## Evaluation"
   ]
  },
  {
   "cell_type": "code",
   "execution_count": null,
   "id": "fb10b6d1-652c-4518-a1fe-1e381845a0c7",
   "metadata": {},
   "outputs": [],
   "source": [
    "losses = pd.DataFrame(model.history.history)"
   ]
  },
  {
   "cell_type": "code",
   "execution_count": null,
   "id": "58640f80-2ee3-41f0-9bb3-fb531282bac3",
   "metadata": {},
   "outputs": [],
   "source": [
    "losses[['loss','val_loss']].plot();"
   ]
  },
  {
   "cell_type": "code",
   "execution_count": null,
   "id": "870e8570-e5e5-4f23-81ba-13008f618fec",
   "metadata": {},
   "outputs": [],
   "source": [
    "test_predictions = []\n",
    "\n",
    "first_eval_batch = scaled_train[-length:]\n",
    "current_batch = first_eval_batch.reshape((1, length, n_features))\n",
    "\n",
    "for i in range(len(test)):\n",
    "    \n",
    "    # get prediction 1 time stamp ahead ([0] is for grabbing just the number instead of [array])\n",
    "    current_pred = model.predict(current_batch)[0]\n",
    "    \n",
    "    # store prediction\n",
    "    test_predictions.append(current_pred) \n",
    "    \n",
    "    # update batch to now include prediction and drop first value\n",
    "    current_batch = np.append(current_batch[:,1:,:],[[current_pred]],axis=1)"
   ]
  },
  {
   "cell_type": "code",
   "execution_count": null,
   "id": "f9f553ba-130b-4f97-9757-87d9fe264b56",
   "metadata": {},
   "outputs": [],
   "source": [
    "predictions = scaler.inverse_transform(test_predictions)\n",
    "test['Predictions'] = predictions"
   ]
  },
  {
   "cell_type": "code",
   "execution_count": null,
   "id": "19830d05-8383-40e5-a02b-8cb694b0473e",
   "metadata": {},
   "outputs": [],
   "source": [
    "test.plot();"
   ]
  },
  {
   "cell_type": "markdown",
   "id": "4c5d9d2b-5fe1-438d-83e2-1765aa044ef1",
   "metadata": {},
   "source": [
    "## Forecasting"
   ]
  },
  {
   "cell_type": "code",
   "execution_count": null,
   "id": "ebae12f0-bbaf-44c0-95b0-d094366442ca",
   "metadata": {},
   "outputs": [],
   "source": [
    "scaler = MinMaxScaler()\n",
    "scaled_data = scaler.fit_transform(df)"
   ]
  },
  {
   "cell_type": "code",
   "execution_count": null,
   "id": "b3f63ecb-c49a-4b96-af93-5b6ed6c1d7ff",
   "metadata": {},
   "outputs": [],
   "source": [
    "length = 12\n",
    "batch_size = 1\n",
    "generator = TimeseriesGenerator(scaled_data, scaled_data, length=length, batch_size=batch_size)"
   ]
  },
  {
   "cell_type": "code",
   "execution_count": null,
   "id": "dca1bf28-10ab-4641-bd09-34f3a1e631c7",
   "metadata": {},
   "outputs": [],
   "source": [
    "model = Sequential()\n",
    "\n",
    "model.add(Input(shape=(length, n_features)))\n",
    "\n",
    "model.add(LSTM(units=100, activation='relu'))\n",
    "model.add(Dense(1))"
   ]
  },
  {
   "cell_type": "code",
   "execution_count": null,
   "id": "a34d859b-b756-46ef-bed2-ca9ac83feb1c",
   "metadata": {},
   "outputs": [],
   "source": [
    "model.compile(optimizer='adam', loss='mse')"
   ]
  },
  {
   "cell_type": "code",
   "execution_count": null,
   "id": "dce1734e-4329-4001-8b89-d7f730605496",
   "metadata": {},
   "outputs": [],
   "source": [
    "early_stop = EarlyStopping(monitor='val_loss', patience=4, restore_best_weights=True)"
   ]
  },
  {
   "cell_type": "code",
   "execution_count": null,
   "id": "f8af4942-e811-4d60-9d83-b687a9b2fe57",
   "metadata": {},
   "outputs": [],
   "source": [
    "model.fit(generator, epochs=20, validation_data=validation_generator, callbacks=[early_stop])"
   ]
  },
  {
   "cell_type": "code",
   "execution_count": null,
   "id": "1cb29bec-f7c3-45e1-a556-4c1c5c005783",
   "metadata": {},
   "outputs": [],
   "source": [
    "forecast = []\n",
    "# Replace periods with whatever forecast length you want\n",
    "periods = 12\n",
    "\n",
    "first_eval_batch = scaled_data[-length:]\n",
    "current_batch = first_eval_batch.reshape((1, length, n_features))\n",
    "\n",
    "for i in range(periods):\n",
    "    \n",
    "    # get prediction 1 time stamp ahead ([0] is for grabbing just the number instead of [array])\n",
    "    current_pred = model.predict(current_batch)[0]\n",
    "    \n",
    "    # store prediction\n",
    "    forecast.append(current_pred) \n",
    "    \n",
    "    # update batch to now include prediction and drop first value\n",
    "    current_batch = np.append(current_batch[:,1:,:],[[current_pred]],axis=1)"
   ]
  },
  {
   "cell_type": "code",
   "execution_count": null,
   "id": "2676a6b7-979f-4f41-8848-95e9ae7707d8",
   "metadata": {},
   "outputs": [],
   "source": [
    "forecast = scaler.inverse_transform(forecast)"
   ]
  },
  {
   "cell_type": "code",
   "execution_count": null,
   "id": "02d383b9-2466-4471-bb73-5ac5fd063367",
   "metadata": {},
   "outputs": [],
   "source": [
    "forecast"
   ]
  },
  {
   "cell_type": "code",
   "execution_count": null,
   "id": "1808c211-a9bd-4bad-8051-aaca43b724aa",
   "metadata": {},
   "outputs": [],
   "source": [
    "df"
   ]
  },
  {
   "cell_type": "code",
   "execution_count": null,
   "id": "5467e317-979f-4bc9-b0b7-c33d0eb28bb3",
   "metadata": {},
   "outputs": [],
   "source": [
    "forecast_index = pd.date_range(start='2019-11-01', periods=periods, freq='MS')"
   ]
  },
  {
   "cell_type": "code",
   "execution_count": null,
   "id": "24d9daf0-1c6c-481b-b71a-b74540fd56d2",
   "metadata": {},
   "outputs": [],
   "source": [
    "forecast_df = pd.DataFrame(data=forecast, index=forecast_index, columns=['Forecast'])"
   ]
  },
  {
   "cell_type": "code",
   "execution_count": null,
   "id": "7da87752-86f4-45c4-872a-814ef4f62509",
   "metadata": {},
   "outputs": [],
   "source": [
    "df.plot()\n",
    "forecast_df.plot();"
   ]
  },
  {
   "cell_type": "code",
   "execution_count": null,
   "id": "7520e62d-5319-4d0f-85e8-a3aaeaae6db9",
   "metadata": {},
   "outputs": [],
   "source": [
    "forecast_df.plot(ax=df.plot(),figsize=(12,6));\n",
    "plt.xlim('2000-01-01', '2020-11-01')"
   ]
  },
  {
   "cell_type": "code",
   "execution_count": null,
   "id": "977ee9a2-8fdd-445e-9795-3c7976adb9b8",
   "metadata": {},
   "outputs": [],
   "source": []
  }
 ],
 "metadata": {
  "kernelspec": {
   "display_name": "Python 3 (ipykernel)",
   "language": "python",
   "name": "python3"
  },
  "language_info": {
   "codemirror_mode": {
    "name": "ipython",
    "version": 3
   },
   "file_extension": ".py",
   "mimetype": "text/x-python",
   "name": "python",
   "nbconvert_exporter": "python",
   "pygments_lexer": "ipython3",
   "version": "3.12.2"
  }
 },
 "nbformat": 4,
 "nbformat_minor": 5
}
