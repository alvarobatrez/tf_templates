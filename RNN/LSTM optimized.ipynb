{
 "cells": [
  {
   "cell_type": "code",
   "execution_count": 129,
   "id": "88c6de53-fe5a-4580-8207-ba8d57c3119a",
   "metadata": {},
   "outputs": [],
   "source": [
    "import numpy as np\n",
    "import pandas as pd\n",
    "import matplotlib.pyplot as plt\n",
    "import tensorflow as tf\n",
    "from sklearn.preprocessing import MinMaxScaler\n",
    "from sklearn.metrics import mean_squared_error, mean_absolute_error\n",
    "from tensorflow.keras.preprocessing.sequence import TimeseriesGenerator\n",
    "from tensorflow.keras.models import Model\n",
    "from tensorflow.keras.layers import (\n",
    "    Bidirectional, LSTM, Dense, Dropout, Input, \n",
    "    Multiply, Activation, Lambda\n",
    ")\n",
    "from tensorflow.keras.callbacks import EarlyStopping"
   ]
  },
  {
   "cell_type": "code",
   "execution_count": 130,
   "id": "b3e627c1-9199-4610-9831-96192988b6c2",
   "metadata": {},
   "outputs": [],
   "source": [
    "class TemporalAttention(tf.keras.layers.Layer):\n",
    "    def __init__(self, units=50, **kwargs):\n",
    "        super(TemporalAttention, self).__init__(**kwargs)\n",
    "        self.W1 = Dense(units)\n",
    "        self.W2 = Dense(units)\n",
    "        self.V = Dense(1)\n",
    "\n",
    "    def call(self, inputs):\n",
    "        hidden_with_time_axis = tf.expand_dims(inputs, axis=1)\n",
    "        score = self.V(tf.nn.tanh(\n",
    "            self.W1(inputs) + self.W2(hidden_with_time_axis)))\n",
    "        attention_weights = tf.nn.softmax(score, axis=1)\n",
    "        context_vector = attention_weights * inputs\n",
    "        context_vector = tf.reduce_sum(context_vector, axis=1)\n",
    "        return context_vector, attention_weights"
   ]
  },
  {
   "cell_type": "code",
   "execution_count": 131,
   "id": "906b257e-2ef7-4ff0-9c94-4f69f225eb62",
   "metadata": {},
   "outputs": [],
   "source": [
    "df_train = pd.read_csv('/home/alvaro/tf_templates/DATA/DailyDelhiClimateTrain.csv', parse_dates=['date'], dayfirst=True).set_index('date')\n",
    "df_test = pd.read_csv('/home/alvaro/tf_templates/DATA/DailyDelhiClimateTest.csv', parse_dates=['date']).set_index('date')"
   ]
  },
  {
   "cell_type": "code",
   "execution_count": 132,
   "id": "afeda583-7dae-4b0f-9c97-d3f47f4f79e3",
   "metadata": {},
   "outputs": [],
   "source": [
    "train = df_train[['meantemp']]\n",
    "test = df_test[['meantemp']]"
   ]
  },
  {
   "cell_type": "code",
   "execution_count": 133,
   "id": "f51c870e-f6d1-4fe1-8a64-d7bfe64d755c",
   "metadata": {},
   "outputs": [],
   "source": [
    "scaler = MinMaxScaler()\n",
    "scaled_train = scaler.fit_transform(train)\n",
    "scaled_test = scaler.transform(test)"
   ]
  },
  {
   "cell_type": "code",
   "execution_count": 134,
   "id": "71f572ed-1146-4a9f-98bd-a189566f3733",
   "metadata": {},
   "outputs": [],
   "source": [
    "length = 90\n",
    "batch_size = 32\n",
    "n_features = 1"
   ]
  },
  {
   "cell_type": "code",
   "execution_count": 135,
   "id": "f5a25d91-1c4b-47a0-8560-2c513c3c5d24",
   "metadata": {},
   "outputs": [],
   "source": [
    "generator = TimeseriesGenerator(scaled_train, scaled_train, length=length, batch_size=batch_size)\n",
    "validation_generator = TimeseriesGenerator(scaled_test, scaled_test, length=length, batch_size=batch_size)"
   ]
  },
  {
   "cell_type": "code",
   "execution_count": 144,
   "id": "ba097a13-a56a-4d9c-8299-8e49a263f362",
   "metadata": {},
   "outputs": [],
   "source": [
    "inputs = Input(shape=(length, n_features))"
   ]
  },
  {
   "cell_type": "code",
   "execution_count": 145,
   "id": "b76e85fa-59d2-4447-ae42-0b4bf7199f58",
   "metadata": {},
   "outputs": [],
   "source": [
    "x = Bidirectional(LSTM(100, return_sequences=True))(inputs)\n",
    "x = Dropout(0.3)(x)"
   ]
  },
  {
   "cell_type": "code",
   "execution_count": 146,
   "id": "c1eedd0c-ce2b-4a76-ba99-f1c92a43848c",
   "metadata": {},
   "outputs": [],
   "source": [
    "x = Bidirectional(LSTM(50, return_sequences=True))(x)\n",
    "x = Dropout(0.2)(x)"
   ]
  },
  {
   "cell_type": "code",
   "execution_count": 147,
   "id": "0a04b6c8-0909-4e22-99b0-83a768db36a8",
   "metadata": {},
   "outputs": [],
   "source": [
    "context_vector, attention_weights = TemporalAttention(50)(x)"
   ]
  },
  {
   "cell_type": "code",
   "execution_count": 148,
   "id": "13e0b979-2302-4f63-b713-092b90781f7a",
   "metadata": {},
   "outputs": [],
   "source": [
    "x = Dense(50, activation='relu')(context_vector)\n",
    "outputs = Dense(n_features)(x)"
   ]
  },
  {
   "cell_type": "code",
   "execution_count": 149,
   "id": "ef7bbb95-5311-42e6-8b0f-e931666197b9",
   "metadata": {},
   "outputs": [],
   "source": [
    "model = Model(inputs=inputs, outputs=outputs)\n",
    "model.compile(optimizer='adam', loss='mse', metrics=['mae'])"
   ]
  },
  {
   "cell_type": "code",
   "execution_count": 150,
   "id": "1d0d5186-afdc-4487-982c-453ece373ad1",
   "metadata": {},
   "outputs": [],
   "source": [
    "early_stop = EarlyStopping(monitor='val_mae', patience=10, restore_best_weights=True)"
   ]
  },
  {
   "cell_type": "code",
   "execution_count": 151,
   "id": "f95eb0d6-07da-44c0-aca3-3af9079001ad",
   "metadata": {},
   "outputs": [
    {
     "name": "stdout",
     "output_type": "stream",
     "text": [
      "Epoch 1/100\n",
      "\u001b[1m43/43\u001b[0m \u001b[32m━━━━━━━━━━━━━━━━━━━━\u001b[0m\u001b[37m\u001b[0m \u001b[1m7s\u001b[0m 41ms/step - loss: 0.0921 - mae: 0.2420 - val_loss: 0.0596 - val_mae: 0.2132\n",
      "Epoch 2/100\n",
      "\u001b[1m43/43\u001b[0m \u001b[32m━━━━━━━━━━━━━━━━━━━━\u001b[0m\u001b[37m\u001b[0m \u001b[1m1s\u001b[0m 33ms/step - loss: 0.0365 - mae: 0.1563 - val_loss: 0.0687 - val_mae: 0.2368\n",
      "Epoch 3/100\n",
      "\u001b[1m43/43\u001b[0m \u001b[32m━━━━━━━━━━━━━━━━━━━━\u001b[0m\u001b[37m\u001b[0m \u001b[1m1s\u001b[0m 32ms/step - loss: 0.0366 - mae: 0.1519 - val_loss: 0.0674 - val_mae: 0.2353\n",
      "Epoch 4/100\n",
      "\u001b[1m43/43\u001b[0m \u001b[32m━━━━━━━━━━━━━━━━━━━━\u001b[0m\u001b[37m\u001b[0m \u001b[1m1s\u001b[0m 33ms/step - loss: 0.0383 - mae: 0.1576 - val_loss: 0.0287 - val_mae: 0.1392\n",
      "Epoch 5/100\n",
      "\u001b[1m43/43\u001b[0m \u001b[32m━━━━━━━━━━━━━━━━━━━━\u001b[0m\u001b[37m\u001b[0m \u001b[1m1s\u001b[0m 32ms/step - loss: 0.0400 - mae: 0.1594 - val_loss: 0.1125 - val_mae: 0.3222\n",
      "Epoch 6/100\n",
      "\u001b[1m43/43\u001b[0m \u001b[32m━━━━━━━━━━━━━━━━━━━━\u001b[0m\u001b[37m\u001b[0m \u001b[1m1s\u001b[0m 33ms/step - loss: 0.0349 - mae: 0.1520 - val_loss: 0.1197 - val_mae: 0.3320\n",
      "Epoch 7/100\n",
      "\u001b[1m43/43\u001b[0m \u001b[32m━━━━━━━━━━━━━━━━━━━━\u001b[0m\u001b[37m\u001b[0m \u001b[1m1s\u001b[0m 32ms/step - loss: 0.0556 - mae: 0.1960 - val_loss: 0.0851 - val_mae: 0.2760\n",
      "Epoch 8/100\n",
      "\u001b[1m43/43\u001b[0m \u001b[32m━━━━━━━━━━━━━━━━━━━━\u001b[0m\u001b[37m\u001b[0m \u001b[1m1s\u001b[0m 34ms/step - loss: 0.0405 - mae: 0.1613 - val_loss: 0.0781 - val_mae: 0.2595\n",
      "Epoch 9/100\n",
      "\u001b[1m43/43\u001b[0m \u001b[32m━━━━━━━━━━━━━━━━━━━━\u001b[0m\u001b[37m\u001b[0m \u001b[1m1s\u001b[0m 29ms/step - loss: 0.0356 - mae: 0.1534 - val_loss: 0.0521 - val_mae: 0.2080\n",
      "Epoch 10/100\n",
      "\u001b[1m43/43\u001b[0m \u001b[32m━━━━━━━━━━━━━━━━━━━━\u001b[0m\u001b[37m\u001b[0m \u001b[1m1s\u001b[0m 29ms/step - loss: 0.0374 - mae: 0.1563 - val_loss: 0.0800 - val_mae: 0.2692\n",
      "Epoch 11/100\n",
      "\u001b[1m43/43\u001b[0m \u001b[32m━━━━━━━━━━━━━━━━━━━━\u001b[0m\u001b[37m\u001b[0m \u001b[1m1s\u001b[0m 31ms/step - loss: 0.0406 - mae: 0.1618 - val_loss: 0.0485 - val_mae: 0.1968\n",
      "Epoch 12/100\n",
      "\u001b[1m43/43\u001b[0m \u001b[32m━━━━━━━━━━━━━━━━━━━━\u001b[0m\u001b[37m\u001b[0m \u001b[1m1s\u001b[0m 31ms/step - loss: 0.0321 - mae: 0.1469 - val_loss: 0.0281 - val_mae: 0.1428\n",
      "Epoch 13/100\n",
      "\u001b[1m43/43\u001b[0m \u001b[32m━━━━━━━━━━━━━━━━━━━━\u001b[0m\u001b[37m\u001b[0m \u001b[1m1s\u001b[0m 29ms/step - loss: 0.0450 - mae: 0.1609 - val_loss: 0.0604 - val_mae: 0.2247\n",
      "Epoch 14/100\n",
      "\u001b[1m43/43\u001b[0m \u001b[32m━━━━━━━━━━━━━━━━━━━━\u001b[0m\u001b[37m\u001b[0m \u001b[1m1s\u001b[0m 29ms/step - loss: 0.0315 - mae: 0.1410 - val_loss: 0.0516 - val_mae: 0.2049\n"
     ]
    }
   ],
   "source": [
    "history = model.fit(generator, epochs=100, validation_data=validation_generator, callbacks=[early_stop])"
   ]
  },
  {
   "cell_type": "code",
   "execution_count": 152,
   "id": "2c9d96fb-bb47-49fe-bb53-dd43f7e0f225",
   "metadata": {},
   "outputs": [
    {
     "ename": "ValueError",
     "evalue": "all the input arrays must have same number of dimensions, but the array at index 0 has 3 dimension(s) and the array at index 1 has 4 dimension(s)",
     "output_type": "error",
     "traceback": [
      "\u001b[31m---------------------------------------------------------------------------\u001b[39m",
      "\u001b[31mValueError\u001b[39m                                Traceback (most recent call last)",
      "\u001b[36mCell\u001b[39m\u001b[36m \u001b[39m\u001b[32mIn[152]\u001b[39m\u001b[32m, line 8\u001b[39m\n\u001b[32m      6\u001b[39m current_prediction = model.predict(current_batch, verbose=\u001b[32m0\u001b[39m)[\u001b[32m0\u001b[39m]\n\u001b[32m      7\u001b[39m test_predictions.append(current_prediction)\n\u001b[32m----> \u001b[39m\u001b[32m8\u001b[39m current_batch = \u001b[43mnp\u001b[49m\u001b[43m.\u001b[49m\u001b[43mappend\u001b[49m\u001b[43m(\u001b[49m\u001b[43mcurrent_batch\u001b[49m\u001b[43m[\u001b[49m\u001b[43m:\u001b[49m\u001b[43m,\u001b[49m\u001b[43m \u001b[49m\u001b[32;43m1\u001b[39;49m\u001b[43m:\u001b[49m\u001b[43m,\u001b[49m\u001b[43m \u001b[49m\u001b[43m:\u001b[49m\u001b[43m]\u001b[49m\u001b[43m,\u001b[49m\u001b[43m \u001b[49m\u001b[43m[\u001b[49m\u001b[43m[\u001b[49m\u001b[43mcurrent_prediction\u001b[49m\u001b[43m]\u001b[49m\u001b[43m]\u001b[49m\u001b[43m,\u001b[49m\u001b[43m \u001b[49m\u001b[43maxis\u001b[49m\u001b[43m=\u001b[49m\u001b[32;43m1\u001b[39;49m\u001b[43m)\u001b[49m\n",
      "\u001b[36mFile \u001b[39m\u001b[32m~/tf_templates/venv/lib/python3.12/site-packages/numpy/lib/_function_base_impl.py:5692\u001b[39m, in \u001b[36mappend\u001b[39m\u001b[34m(arr, values, axis)\u001b[39m\n\u001b[32m   5690\u001b[39m     values = ravel(values)\n\u001b[32m   5691\u001b[39m     axis = arr.ndim-\u001b[32m1\u001b[39m\n\u001b[32m-> \u001b[39m\u001b[32m5692\u001b[39m \u001b[38;5;28;01mreturn\u001b[39;00m \u001b[43mconcatenate\u001b[49m\u001b[43m(\u001b[49m\u001b[43m(\u001b[49m\u001b[43marr\u001b[49m\u001b[43m,\u001b[49m\u001b[43m \u001b[49m\u001b[43mvalues\u001b[49m\u001b[43m)\u001b[49m\u001b[43m,\u001b[49m\u001b[43m \u001b[49m\u001b[43maxis\u001b[49m\u001b[43m=\u001b[49m\u001b[43maxis\u001b[49m\u001b[43m)\u001b[49m\n",
      "\u001b[31mValueError\u001b[39m: all the input arrays must have same number of dimensions, but the array at index 0 has 3 dimension(s) and the array at index 1 has 4 dimension(s)"
     ]
    }
   ],
   "source": [
    "test_predictions = []\n",
    "first_eval_batch = scaled_train[-length:]\n",
    "current_batch = first_eval_batch.reshape((1, length, n_features))\n",
    "\n",
    "for i in range(len(scaled_test)):\n",
    "    current_prediction = model.predict(current_batch, verbose=0)[0]\n",
    "    test_predictions.append(current_prediction)\n",
    "    current_batch = np.append(current_batch[:, 1:, :], [[current_prediction]], axis=1)"
   ]
  },
  {
   "cell_type": "code",
   "execution_count": null,
   "id": "1e5f7986-769f-411c-8857-6a4927f5e295",
   "metadata": {},
   "outputs": [],
   "source": [
    "current_batch"
   ]
  },
  {
   "cell_type": "code",
   "execution_count": null,
   "id": "3106e503-212a-422c-b5d5-91b1b78fde09",
   "metadata": {},
   "outputs": [],
   "source": []
  }
 ],
 "metadata": {
  "kernelspec": {
   "display_name": "Python 3 (ipykernel)",
   "language": "python",
   "name": "python3"
  },
  "language_info": {
   "codemirror_mode": {
    "name": "ipython",
    "version": 3
   },
   "file_extension": ".py",
   "mimetype": "text/x-python",
   "name": "python",
   "nbconvert_exporter": "python",
   "pygments_lexer": "ipython3",
   "version": "3.12.3"
  }
 },
 "nbformat": 4,
 "nbformat_minor": 5
}
