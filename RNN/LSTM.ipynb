{
 "cells": [
  {
   "cell_type": "code",
   "execution_count": null,
   "id": "5b139db6-be18-42e0-b902-e1ec4e5dcd7c",
   "metadata": {},
   "outputs": [],
   "source": [
    "import numpy as np\n",
    "import pandas as pd\n",
    "import matplotlib.pyplot as plt"
   ]
  },
  {
   "cell_type": "code",
   "execution_count": null,
   "id": "a83628b4-becb-4ee7-bc9a-172dbce67117",
   "metadata": {},
   "outputs": [],
   "source": [
    "from sklearn.preprocessing import MinMaxScaler\n",
    "from sklearn.metrics import mean_squared_error, mean_absolute_error, explained_variance_score"
   ]
  },
  {
   "cell_type": "code",
   "execution_count": null,
   "id": "d488340b-808d-442a-b9d8-e3ed5cda3c0a",
   "metadata": {},
   "outputs": [],
   "source": [
    "from tensorflow.keras.preprocessing.sequence import TimeseriesGenerator\n",
    "from tensorflow.keras.models import Sequential\n",
    "from tensorflow.keras.layers import Dense, LSTM, Input, Dropout\n",
    "from tensorflow.keras.callbacks import EarlyStopping"
   ]
  },
  {
   "cell_type": "code",
   "execution_count": null,
   "id": "c887e77a-669c-4fdf-8feb-a1fcb9534017",
   "metadata": {},
   "outputs": [],
   "source": [
    "df_train = pd.read_csv('/home/alvaro/tf_templates/DATA/DailyDelhiClimateTrain.csv', index_col='date', parse_dates=True)\n",
    "df_test = pd.read_csv('/home/alvaro/tf_templates/DATA/DailyDelhiClimateTest.csv', index_col='date', parse_dates=True)"
   ]
  },
  {
   "cell_type": "code",
   "execution_count": null,
   "id": "b19a21d3-12c4-4123-b873-07c80511e0dc",
   "metadata": {},
   "outputs": [],
   "source": [
    "df_train"
   ]
  },
  {
   "cell_type": "code",
   "execution_count": null,
   "id": "ee49f6e1-d6e8-4bc9-8d00-99608e822cb3",
   "metadata": {},
   "outputs": [],
   "source": [
    "df_test"
   ]
  },
  {
   "cell_type": "code",
   "execution_count": null,
   "id": "0da0aa5c-fe32-436d-9e6e-8d130c0edec0",
   "metadata": {},
   "outputs": [],
   "source": [
    "train = df_train[['meantemp']]\n",
    "test = df_test[['meantemp']]"
   ]
  },
  {
   "cell_type": "code",
   "execution_count": null,
   "id": "ca93dd05-7bd8-4f2b-92d4-2ce688acf3de",
   "metadata": {},
   "outputs": [],
   "source": [
    "train.head()"
   ]
  },
  {
   "cell_type": "code",
   "execution_count": null,
   "id": "276ca390-9f97-4902-b175-b2c3310e590d",
   "metadata": {},
   "outputs": [],
   "source": [
    "train.plot(figsize=(12, 6));"
   ]
  },
  {
   "cell_type": "code",
   "execution_count": null,
   "id": "b7a80f6a-bd5b-4c59-bd83-df528559fa41",
   "metadata": {},
   "outputs": [],
   "source": [
    "scaler = MinMaxScaler()\n",
    "scaled_train = scaler.fit_transform(train)\n",
    "scaled_test = scaler.transform(test)"
   ]
  },
  {
   "cell_type": "code",
   "execution_count": null,
   "id": "f5994046-9a7a-45ed-a8a8-94dce3a94c90",
   "metadata": {},
   "outputs": [],
   "source": [
    "length = 30\n",
    "batch_size = 32\n",
    "generator = TimeseriesGenerator(scaled_train, scaled_train, length=length, batch_size=batch_size)\n",
    "validation_generator = TimeseriesGenerator(scaled_test, scaled_test, length=length, batch_size=batch_size)"
   ]
  },
  {
   "cell_type": "code",
   "execution_count": null,
   "id": "0dbfd572-eae5-485a-8a83-abb0fb5fb904",
   "metadata": {},
   "outputs": [],
   "source": [
    "n_features = 1"
   ]
  },
  {
   "cell_type": "code",
   "execution_count": null,
   "id": "407fffd5-f46b-4800-aa16-ec43982a3aaf",
   "metadata": {},
   "outputs": [],
   "source": [
    "model = Sequential([\n",
    "    Input(shape=(length, n_features)),\n",
    "    LSTM(units=100, activation='relu'),\n",
    "    Dense(units=1)\n",
    "])"
   ]
  },
  {
   "cell_type": "code",
   "execution_count": null,
   "id": "63b0e8a2-f66e-4610-a48d-48b92db47b28",
   "metadata": {},
   "outputs": [],
   "source": [
    "model.compile(optimizer='adam', loss='mse', metrics=['mae'])"
   ]
  },
  {
   "cell_type": "code",
   "execution_count": null,
   "id": "a40aadd0-e632-4449-a51b-e67919cf34c3",
   "metadata": {},
   "outputs": [],
   "source": [
    "early_stop = EarlyStopping(monitor='val_loss', patience=10, restore_best_weights=True)"
   ]
  },
  {
   "cell_type": "code",
   "execution_count": null,
   "id": "4a769363-1213-4248-b36e-2dc33a39cf18",
   "metadata": {},
   "outputs": [],
   "source": [
    "model.fit(generator, epochs=100, validation_data=validation_generator, callbacks=[early_stop])"
   ]
  },
  {
   "cell_type": "code",
   "execution_count": null,
   "id": "1c0bd2e7-e467-4a36-b5e1-ad4813987d75",
   "metadata": {},
   "outputs": [],
   "source": [
    "history = pd.DataFrame(model.history.history)"
   ]
  },
  {
   "cell_type": "code",
   "execution_count": null,
   "id": "56a3ec54-a107-434f-8ee1-c1ea2ba5758a",
   "metadata": {},
   "outputs": [],
   "source": [
    "history[['loss', 'val_loss']].plot();"
   ]
  },
  {
   "cell_type": "code",
   "execution_count": null,
   "id": "0c44df29-a247-4bda-9841-827574abb201",
   "metadata": {},
   "outputs": [],
   "source": [
    "test_predictions = []\n",
    "first_eval_batch = scaled_train[-length:]\n",
    "current_batch = first_eval_batch.reshape((1, length, n_features))\n",
    "\n",
    "for i in range(len(scaled_test)):\n",
    "    current_prediction = model.predict(current_batch)[0]\n",
    "    test_predictions.append(current_prediction)\n",
    "    current_batch = np.append(current_batch[:, 1:, :], [[current_prediction]], axis=1)"
   ]
  },
  {
   "cell_type": "code",
   "execution_count": null,
   "id": "78be66d7-33d4-48c1-95da-c87278a9d32e",
   "metadata": {},
   "outputs": [],
   "source": [
    "predictions = scaler.inverse_transform(test_predictions)\n",
    "test.loc[:, 'Predictions'] = predictions"
   ]
  },
  {
   "cell_type": "code",
   "execution_count": null,
   "id": "e85fb778-4611-4b7a-9095-e66f4f07960d",
   "metadata": {},
   "outputs": [],
   "source": [
    "test.plot();"
   ]
  },
  {
   "cell_type": "code",
   "execution_count": null,
   "id": "3aef194f-6749-4f97-bf85-cbda0352d143",
   "metadata": {},
   "outputs": [],
   "source": []
  }
 ],
 "metadata": {
  "kernelspec": {
   "display_name": "Python 3 (ipykernel)",
   "language": "python",
   "name": "python3"
  },
  "language_info": {
   "codemirror_mode": {
    "name": "ipython",
    "version": 3
   },
   "file_extension": ".py",
   "mimetype": "text/x-python",
   "name": "python",
   "nbconvert_exporter": "python",
   "pygments_lexer": "ipython3",
   "version": "3.12.3"
  }
 },
 "nbformat": 4,
 "nbformat_minor": 5
}
