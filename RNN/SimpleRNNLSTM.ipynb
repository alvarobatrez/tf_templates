{
 "cells": [
  {
   "cell_type": "code",
   "execution_count": null,
   "id": "3b762096-39f0-4645-bdde-0f3902233d13",
   "metadata": {},
   "outputs": [],
   "source": [
    "import numpy as np\n",
    "import pandas as pd\n",
    "import matplotlib.pyplot as plt"
   ]
  },
  {
   "cell_type": "code",
   "execution_count": null,
   "id": "3a66fbc4-b846-40de-895b-2aa79b77c981",
   "metadata": {},
   "outputs": [],
   "source": [
    "from sklearn.preprocessing import MinMaxScaler"
   ]
  },
  {
   "cell_type": "code",
   "execution_count": null,
   "id": "0e5c53fa-6816-4af4-9005-aa64451d2c2b",
   "metadata": {},
   "outputs": [],
   "source": [
    "from tensorflow.keras.preprocessing.sequence import TimeseriesGenerator\n",
    "from tensorflow.keras.models import Sequential\n",
    "from tensorflow.keras import Input\n",
    "from tensorflow.keras.layers import Dense, SimpleRNN, LSTM\n",
    "from tensorflow.keras.callbacks import EarlyStopping"
   ]
  },
  {
   "cell_type": "markdown",
   "id": "33b62377-eb64-451f-9451-48c2a91457bb",
   "metadata": {},
   "source": [
    "## Data"
   ]
  },
  {
   "cell_type": "code",
   "execution_count": null,
   "id": "0546f0d6-1ca4-4bc8-a1cb-34dc47722d51",
   "metadata": {},
   "outputs": [],
   "source": [
    "x = np.linspace(0,100,1001)\n",
    "y = np.sin(x)"
   ]
  },
  {
   "cell_type": "code",
   "execution_count": null,
   "id": "8d49c679-c9b3-4391-8b17-7ce5a2ace771",
   "metadata": {},
   "outputs": [],
   "source": [
    "plt.plot(x,y);"
   ]
  },
  {
   "cell_type": "code",
   "execution_count": null,
   "id": "11245dbc-5656-413d-8e2d-7fa828351222",
   "metadata": {},
   "outputs": [],
   "source": [
    "df = pd.DataFrame(data=y, index=x, columns=['Sine'])\n",
    "df"
   ]
  },
  {
   "cell_type": "markdown",
   "id": "239e1e01-5a99-473c-8b2e-73c89535a27b",
   "metadata": {},
   "source": [
    "## Train Test Split"
   ]
  },
  {
   "cell_type": "code",
   "execution_count": null,
   "id": "1a6230ae-219a-4728-9811-ab9a8a7cc83f",
   "metadata": {},
   "outputs": [],
   "source": [
    "test_percent = 0.1\n",
    "test_point = np.round(len(df) * test_percent)\n",
    "test_ind = int(len(df) - test_point)\n",
    "test_ind"
   ]
  },
  {
   "cell_type": "code",
   "execution_count": null,
   "id": "77dfdc30-7dfc-4603-b468-9fb44ad6503d",
   "metadata": {},
   "outputs": [],
   "source": [
    "train = df.iloc[:test_ind]\n",
    "test = df.iloc[test_ind:]"
   ]
  },
  {
   "cell_type": "code",
   "execution_count": null,
   "id": "446f13ae-4722-437a-8713-00689e30fa21",
   "metadata": {},
   "outputs": [],
   "source": [
    "train.plot();"
   ]
  },
  {
   "cell_type": "code",
   "execution_count": null,
   "id": "979b1825-49b3-4697-99ca-b9d30bf3b067",
   "metadata": {},
   "outputs": [],
   "source": [
    "test.plot();"
   ]
  },
  {
   "cell_type": "markdown",
   "id": "8f96a700-2921-47fd-a90b-d41e9c20e0f0",
   "metadata": {},
   "source": [
    "## Scale Data"
   ]
  },
  {
   "cell_type": "code",
   "execution_count": null,
   "id": "52818b2d-200e-4da0-bd63-e3b5f947b397",
   "metadata": {},
   "outputs": [],
   "source": [
    "scaler = MinMaxScaler()\n",
    "\n",
    "scaled_train = scaler.fit_transform(train)\n",
    "scaled_test = scaler.transform(test)"
   ]
  },
  {
   "cell_type": "markdown",
   "id": "83298601-9bff-446a-8718-ee6dcd9005c8",
   "metadata": {},
   "source": [
    "## Time Series Generator"
   ]
  },
  {
   "cell_type": "code",
   "execution_count": null,
   "id": "ab6262e0-7751-40f3-bf5a-f16c28ee5f47",
   "metadata": {},
   "outputs": [],
   "source": [
    "length = 2\n",
    "batch_size = 1\n",
    "generator = TimeseriesGenerator(scaled_train, scaled_train, length=length, batch_size=batch_size)"
   ]
  },
  {
   "cell_type": "code",
   "execution_count": null,
   "id": "d124e89b-52bd-49a7-95c9-3347b27b1a4c",
   "metadata": {},
   "outputs": [],
   "source": [
    "len(scaled_train)"
   ]
  },
  {
   "cell_type": "code",
   "execution_count": null,
   "id": "07fe04dc-c4f2-4d13-8f20-29de22ab3877",
   "metadata": {},
   "outputs": [],
   "source": [
    "len(generator)"
   ]
  },
  {
   "cell_type": "code",
   "execution_count": null,
   "id": "a4b73963-096c-49be-ad7c-20ebb5b6dc13",
   "metadata": {},
   "outputs": [],
   "source": [
    "X, y = generator[0]"
   ]
  },
  {
   "cell_type": "code",
   "execution_count": null,
   "id": "c4b9e812-e28c-4e3c-b506-d1f598c323f5",
   "metadata": {},
   "outputs": [],
   "source": [
    "print(f'Given the Array: \\n{X.flatten()}')\n",
    "print(f'Predict this y: \\n {y}')"
   ]
  },
  {
   "cell_type": "code",
   "execution_count": null,
   "id": "d8373d49-a653-4506-a825-d49ec19d7cc8",
   "metadata": {},
   "outputs": [],
   "source": [
    "length = 50\n",
    "batch_size = 1\n",
    "generator = TimeseriesGenerator(scaled_train, scaled_train, length=length, batch_size=batch_size)\n",
    "\n",
    "validation_generator = TimeseriesGenerator(scaled_test, scaled_test, length=length, batch_size=batch_size)"
   ]
  },
  {
   "cell_type": "code",
   "execution_count": null,
   "id": "2c779b94-72da-443f-a060-78b7d8bbc9c0",
   "metadata": {},
   "outputs": [],
   "source": [
    "X, y = generator[0]"
   ]
  },
  {
   "cell_type": "code",
   "execution_count": null,
   "id": "d26b2a08-45bf-4442-8bfb-20e653cded1c",
   "metadata": {},
   "outputs": [],
   "source": [
    "print(f'Given the Array: \\n{X.flatten()}')\n",
    "print(f'Predict this y: \\n {y}')"
   ]
  },
  {
   "cell_type": "markdown",
   "id": "f619f80e-1578-43e3-8c5b-a6aaeeef0c63",
   "metadata": {},
   "source": [
    "## Create a Recurrent Neural Network and Training"
   ]
  },
  {
   "cell_type": "code",
   "execution_count": null,
   "id": "50d89b8c-80b3-47c8-9bf7-b9d4c9d85612",
   "metadata": {},
   "outputs": [],
   "source": [
    "n_features = 1"
   ]
  },
  {
   "cell_type": "code",
   "execution_count": null,
   "id": "61aea100-66d5-4e81-bafe-76c2803c3884",
   "metadata": {},
   "outputs": [],
   "source": [
    "model = Sequential()\n",
    "\n",
    "model.add(Input(shape=(length, n_features)))\n",
    "\n",
    "model.add(SimpleRNN(units=50))\n",
    "model.add(Dense(1))"
   ]
  },
  {
   "cell_type": "code",
   "execution_count": null,
   "id": "1c8a432a-e4aa-4162-957c-c22bf9c9ce4f",
   "metadata": {},
   "outputs": [],
   "source": [
    "model.compile(optimizer='sgd', loss='mse')"
   ]
  },
  {
   "cell_type": "code",
   "execution_count": null,
   "id": "d991ea04-8d3f-45b6-8a3d-b5b6495ba30b",
   "metadata": {},
   "outputs": [],
   "source": [
    "model.summary()"
   ]
  },
  {
   "cell_type": "code",
   "execution_count": null,
   "id": "7bdee944-3c76-4aab-b55d-a21807b561c2",
   "metadata": {},
   "outputs": [],
   "source": [
    "early_stop = EarlyStopping(monitor='val_loss', patience=4, restore_best_weights=True)"
   ]
  },
  {
   "cell_type": "code",
   "execution_count": null,
   "id": "2d753b70-7116-4459-8dde-388d83e92754",
   "metadata": {},
   "outputs": [],
   "source": [
    "import warnings\n",
    "warnings.filterwarnings('ignore')"
   ]
  },
  {
   "cell_type": "code",
   "execution_count": null,
   "id": "7f7954ff-afb6-41e7-ad58-81c4953710b7",
   "metadata": {},
   "outputs": [],
   "source": [
    "model.fit(generator, epochs=20, validation_data=validation_generator, callbacks=[early_stop])"
   ]
  },
  {
   "cell_type": "markdown",
   "id": "3e3360fe-8637-46d4-823b-cfad5e19b11b",
   "metadata": {},
   "source": [
    "## Evaluation and Inverse Transformation"
   ]
  },
  {
   "cell_type": "code",
   "execution_count": null,
   "id": "6c1c0bab-60ba-46ee-a938-c9de793eb344",
   "metadata": {},
   "outputs": [],
   "source": [
    "losses = pd.DataFrame(model.history.history)"
   ]
  },
  {
   "cell_type": "code",
   "execution_count": null,
   "id": "061f2006-3255-480c-9617-c22186e01aec",
   "metadata": {},
   "outputs": [],
   "source": [
    "losses.plot([['loss','val_loss']]);"
   ]
  },
  {
   "cell_type": "code",
   "execution_count": null,
   "id": "f835b770-772c-4958-9606-69e8dc2b46a3",
   "metadata": {},
   "outputs": [],
   "source": [
    "test_predictions = []\n",
    "\n",
    "first_eval_batch = scaled_train[-length:]\n",
    "current_batch = first_eval_batch.reshape((1, length, n_features))\n",
    "\n",
    "for i in range(len(test)):\n",
    "    \n",
    "    # get prediction 1 time stamp ahead ([0] is for grabbing just the number instead of [array])\n",
    "    current_pred = model.predict(current_batch)[0]\n",
    "    \n",
    "    # store prediction\n",
    "    test_predictions.append(current_pred) \n",
    "    \n",
    "    # update batch to now include prediction and drop first value\n",
    "    current_batch = np.append(current_batch[:,1:,:],[[current_pred]],axis=1)"
   ]
  },
  {
   "cell_type": "code",
   "execution_count": null,
   "id": "7864fa24-b35d-4f91-99cb-d9ad1330a961",
   "metadata": {},
   "outputs": [],
   "source": [
    "predictions = scaler.inverse_transform(test_predictions)"
   ]
  },
  {
   "cell_type": "code",
   "execution_count": null,
   "id": "bdce760f-c0d2-476d-8462-e1e02ea5aae1",
   "metadata": {},
   "outputs": [],
   "source": [
    "test"
   ]
  },
  {
   "cell_type": "code",
   "execution_count": null,
   "id": "44a0cc39-b759-474d-baff-ef8aba7859c7",
   "metadata": {},
   "outputs": [],
   "source": [
    "test['RNN Predictions'] = predictions"
   ]
  },
  {
   "cell_type": "code",
   "execution_count": null,
   "id": "41abaf3a-bd0f-44c0-845f-5c9181c26ad4",
   "metadata": {},
   "outputs": [],
   "source": [
    "test.plot();"
   ]
  },
  {
   "cell_type": "markdown",
   "id": "b088f77d-391d-49cf-87f3-f4529f86668d",
   "metadata": {},
   "source": [
    "## LSTM"
   ]
  },
  {
   "cell_type": "code",
   "execution_count": null,
   "id": "5a2ff853-c1b7-4947-8617-0ebe307c53f3",
   "metadata": {},
   "outputs": [],
   "source": [
    "model = Sequential()\n",
    "\n",
    "model.add(Input(shape=(length, n_features)))\n",
    "\n",
    "model.add(LSTM(units=50))\n",
    "model.add(Dense(1))"
   ]
  },
  {
   "cell_type": "code",
   "execution_count": null,
   "id": "7a7793e7-59bb-43b5-a0a8-a087fbfa0514",
   "metadata": {},
   "outputs": [],
   "source": [
    "model.compile(optimizer='sgd', loss='mse')"
   ]
  },
  {
   "cell_type": "code",
   "execution_count": null,
   "id": "21740475-5939-478b-a180-7258a3df2f10",
   "metadata": {},
   "outputs": [],
   "source": [
    "early_stop = EarlyStopping(monitor='val_loss', patience=4, restore_best_weights=True)"
   ]
  },
  {
   "cell_type": "code",
   "execution_count": null,
   "id": "2303a7d7-8894-4758-b19e-f6b279b4fe97",
   "metadata": {},
   "outputs": [],
   "source": [
    "model.fit(generator, epochs=20, validation_data=validation_generator, callbacks=[early_stop])"
   ]
  },
  {
   "cell_type": "code",
   "execution_count": null,
   "id": "a0f5f986-5be7-49f1-85fc-d088c60df3fe",
   "metadata": {},
   "outputs": [],
   "source": [
    "test_predictions = []\n",
    "\n",
    "first_eval_batch = scaled_train[-length:]\n",
    "current_batch = first_eval_batch.reshape((1, length, n_features))\n",
    "\n",
    "for i in range(len(test)):\n",
    "    \n",
    "    # get prediction 1 time stamp ahead ([0] is for grabbing just the number instead of [array])\n",
    "    current_pred = model.predict(current_batch)[0]\n",
    "    \n",
    "    # store prediction\n",
    "    test_predictions.append(current_pred) \n",
    "    \n",
    "    # update batch to now include prediction and drop first value\n",
    "    current_batch = np.append(current_batch[:,1:,:],[[current_pred]],axis=1)"
   ]
  },
  {
   "cell_type": "code",
   "execution_count": null,
   "id": "e57716a1-02f1-42bf-a26f-1fc07dbe9f6c",
   "metadata": {},
   "outputs": [],
   "source": [
    "predictions = scaler.inverse_transform(test_predictions)\n",
    "test['LSTM Predictions'] = predictions\n",
    "test.plot(figsize=(12,8));"
   ]
  },
  {
   "cell_type": "markdown",
   "id": "a5d3211d-76bd-4089-8080-4b2f74c5e036",
   "metadata": {},
   "source": [
    "## Forecasting"
   ]
  },
  {
   "cell_type": "code",
   "execution_count": null,
   "id": "cddadcb7-7125-4f30-8dad-ed6e3fbee10f",
   "metadata": {},
   "outputs": [],
   "source": [
    "scaler = MinMaxScaler()\n",
    "scaled_data = scaler.fit_transform(df)"
   ]
  },
  {
   "cell_type": "code",
   "execution_count": null,
   "id": "7b88f735-21df-4388-986c-5f4e7c74f86e",
   "metadata": {},
   "outputs": [],
   "source": [
    "length = 50 # output length\n",
    "batch_size = 1\n",
    "generator = TimeseriesGenerator(scaled_data, scaled_data, length=length, batch_size=batch_size)"
   ]
  },
  {
   "cell_type": "code",
   "execution_count": null,
   "id": "5af5efdc-7ca9-4ca1-89f4-6cbc944acde3",
   "metadata": {},
   "outputs": [],
   "source": [
    "model = Sequential()\n",
    "\n",
    "model.add(Input(shape=(length, n_features)))\n",
    "\n",
    "model.add(LSTM(units=50))\n",
    "model.add(Dense(1))"
   ]
  },
  {
   "cell_type": "code",
   "execution_count": null,
   "id": "e7b6edf6-1d5a-4cd1-ab0f-3008000b05b3",
   "metadata": {},
   "outputs": [],
   "source": [
    "model.compile(optimizer='sgd', loss='mse')"
   ]
  },
  {
   "cell_type": "code",
   "execution_count": null,
   "id": "117fdabd-08ec-4a9a-b9b7-61c3afe63b45",
   "metadata": {},
   "outputs": [],
   "source": [
    "early_stop = EarlyStopping(monitor='val_loss', patience=4, restore_best_weights=True)"
   ]
  },
  {
   "cell_type": "code",
   "execution_count": null,
   "id": "d44a5598-0ffb-4d9d-8b3b-1a860bf3c295",
   "metadata": {},
   "outputs": [],
   "source": [
    "model.fit(generator, epochs=20, validation_data=validation_generator, callbacks=[early_stop])"
   ]
  },
  {
   "cell_type": "code",
   "execution_count": null,
   "id": "08731aa1-ddc8-44f9-8cc2-6d9314a37281",
   "metadata": {},
   "outputs": [],
   "source": [
    "forecast = []\n",
    "\n",
    "first_eval_batch = scaled_data[-length:]\n",
    "current_batch = first_eval_batch.reshape((1, length, n_features))\n",
    "\n",
    "for i in range(len(test)):\n",
    "    \n",
    "    # get prediction 1 time stamp ahead ([0] is for grabbing just the number instead of [array])\n",
    "    current_pred = model.predict(current_batch)[0]\n",
    "    \n",
    "    # store prediction\n",
    "    forecast.append(current_pred) \n",
    "    \n",
    "    # update batch to now include prediction and drop first value\n",
    "    current_batch = np.append(current_batch[:,1:,:],[[current_pred]],axis=1)"
   ]
  },
  {
   "cell_type": "code",
   "execution_count": null,
   "id": "4009e9b1-7aca-42de-8ba8-cb635f6558f2",
   "metadata": {},
   "outputs": [],
   "source": [
    "forecast = scaler.inverse_transform(forecast)"
   ]
  },
  {
   "cell_type": "code",
   "execution_count": null,
   "id": "cfc4b7e5-29be-479a-8054-afd07186c04c",
   "metadata": {},
   "outputs": [],
   "source": [
    "len(forecast)"
   ]
  },
  {
   "cell_type": "code",
   "execution_count": null,
   "id": "070e61db-0ced-4972-9832-f0e0679f0cdc",
   "metadata": {},
   "outputs": [],
   "source": [
    "forecast_index = np.arange(100.1, 110.1, step=0.1)"
   ]
  },
  {
   "cell_type": "code",
   "execution_count": null,
   "id": "1d6b3873-c851-41e6-97e5-24f18c55e83f",
   "metadata": {},
   "outputs": [],
   "source": [
    "len(forecast_index)"
   ]
  },
  {
   "cell_type": "code",
   "execution_count": null,
   "id": "5ebdcf3c-2449-4e5b-b811-96b426e189ed",
   "metadata": {},
   "outputs": [],
   "source": [
    "plt.plot(df.index, df['Sine'])\n",
    "plt.plot(forecast_index, forecast);"
   ]
  },
  {
   "cell_type": "code",
   "execution_count": null,
   "id": "6d34dec8-c4e3-4c02-9093-9bd4a6f5f2ff",
   "metadata": {},
   "outputs": [],
   "source": []
  }
 ],
 "metadata": {
  "kernelspec": {
   "display_name": "Python 3 (ipykernel)",
   "language": "python",
   "name": "python3"
  },
  "language_info": {
   "codemirror_mode": {
    "name": "ipython",
    "version": 3
   },
   "file_extension": ".py",
   "mimetype": "text/x-python",
   "name": "python",
   "nbconvert_exporter": "python",
   "pygments_lexer": "ipython3",
   "version": "3.12.2"
  }
 },
 "nbformat": 4,
 "nbformat_minor": 5
}
