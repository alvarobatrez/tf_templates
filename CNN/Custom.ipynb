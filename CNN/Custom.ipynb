{
 "cells": [
  {
   "cell_type": "code",
   "execution_count": null,
   "id": "b897aafc-055b-4a4d-a874-bd705768393c",
   "metadata": {},
   "outputs": [],
   "source": [
    "import numpy as np\n",
    "import pandas as pd\n",
    "import matplotlib.pyplot as plt\n",
    "from matplotlib.image import imread\n",
    "import seaborn as sns\n",
    "import os"
   ]
  },
  {
   "cell_type": "code",
   "execution_count": null,
   "id": "0c02fe8a-6006-4996-8b05-082318bcdf04",
   "metadata": {},
   "outputs": [],
   "source": [
    "from tensorflow.keras.models import Sequential\n",
    "from tensorflow.keras.layers import Conv2D, MaxPool2D, Dense, Flatten, Dropout\n",
    "from tensorflow.keras import Input\n",
    "from tensorflow.keras.callbacks import EarlyStopping\n",
    "from tensorflow.keras.preprocessing.image import ImageDataGenerator, img_to_array, load_img"
   ]
  },
  {
   "cell_type": "code",
   "execution_count": null,
   "id": "cfac0575-bd7c-4be7-bc5c-2f33843b6b75",
   "metadata": {},
   "outputs": [],
   "source": [
    "from sklearn.metrics import classification_report, confusion_matrix"
   ]
  },
  {
   "cell_type": "markdown",
   "id": "67df221f-a552-4904-a420-343670e50c8e",
   "metadata": {},
   "source": [
    "## Exploratory Visualization and Image Analysis"
   ]
  },
  {
   "cell_type": "code",
   "execution_count": null,
   "id": "c5b31a89-2663-470d-868e-d1b2cc59a98d",
   "metadata": {},
   "outputs": [],
   "source": [
    "data_path = 'C:\\\\Users\\\\alvar\\\\Documents\\\\tf_templates\\\\DATA\\\\cell_images'\n",
    "train_path = data_path + '\\\\train\\\\'\n",
    "test_path = data_path + '\\\\test\\\\'"
   ]
  },
  {
   "cell_type": "code",
   "execution_count": null,
   "id": "287d3c53-034a-4e20-9bda-e0f404f568bc",
   "metadata": {},
   "outputs": [],
   "source": [
    "os.listdir(test_path)"
   ]
  },
  {
   "cell_type": "code",
   "execution_count": null,
   "id": "35f766ba-ea6f-475e-89c9-aa8fc96195dd",
   "metadata": {},
   "outputs": [],
   "source": [
    "os.listdir(train_path)"
   ]
  },
  {
   "cell_type": "code",
   "execution_count": null,
   "id": "21198cfd-33ef-443d-9c27-ca538a197870",
   "metadata": {},
   "outputs": [],
   "source": [
    "uninfected_cell = train_path + '\\\\uninfected\\\\' + os.listdir(train_path + '\\\\uninfected')[0]\n",
    "uninfected_img = imread(uninfected_cell)\n",
    "plt.imshow(uninfected_img);"
   ]
  },
  {
   "cell_type": "code",
   "execution_count": null,
   "id": "5ea5301e-18d8-4cd6-b1b4-ae1f906a3548",
   "metadata": {},
   "outputs": [],
   "source": [
    "parasitized_cell = train_path + '\\\\parasitized\\\\' + os.listdir(train_path + '\\\\parasitized')[0]\n",
    "parasitized_img = imread(parasitized_cell)\n",
    "plt.imshow(parasitized_img);"
   ]
  },
  {
   "cell_type": "code",
   "execution_count": null,
   "id": "c33e989c-85a0-454b-9a28-cf72245c8c86",
   "metadata": {},
   "outputs": [],
   "source": [
    "parasitized_img.shape"
   ]
  },
  {
   "cell_type": "code",
   "execution_count": null,
   "id": "3ac20a91-9979-4e5b-8050-e22f8b15c550",
   "metadata": {},
   "outputs": [],
   "source": [
    "uninfected_img.shape"
   ]
  },
  {
   "cell_type": "code",
   "execution_count": null,
   "id": "8be2a111-e742-4816-a636-0c407213191d",
   "metadata": {},
   "outputs": [],
   "source": [
    "dim1 = []\n",
    "dim2 = []\n",
    "for image_filename in os.listdir(test_path+'\\\\uninfected'):\n",
    "    \n",
    "    img = imread(test_path+'\\\\uninfected'+'\\\\'+image_filename)\n",
    "    d1,d2,colors = img.shape\n",
    "    dim1.append(d1)\n",
    "    dim2.append(d2)"
   ]
  },
  {
   "cell_type": "code",
   "execution_count": null,
   "id": "736c2233-320b-44f5-ae1e-6c8b31beea62",
   "metadata": {},
   "outputs": [],
   "source": [
    "sns.jointplot(x=dim1, y=dim2);"
   ]
  },
  {
   "cell_type": "code",
   "execution_count": null,
   "id": "aab209f2-f412-45b9-adc9-dbc885e5aa78",
   "metadata": {},
   "outputs": [],
   "source": [
    "np.mean(dim1)"
   ]
  },
  {
   "cell_type": "code",
   "execution_count": null,
   "id": "554a8096-1c66-4e56-8f3a-619861f4f563",
   "metadata": {},
   "outputs": [],
   "source": [
    "np.mean(dim2)"
   ]
  },
  {
   "cell_type": "code",
   "execution_count": null,
   "id": "4951f260-36ad-4752-9614-ef58e1a8b1c1",
   "metadata": {},
   "outputs": [],
   "source": [
    "img_height = 131\n",
    "img_width = 131"
   ]
  },
  {
   "cell_type": "code",
   "execution_count": null,
   "id": "ecab76e6-eed5-4f96-ba0c-6ee1f172fc92",
   "metadata": {},
   "outputs": [],
   "source": [
    "parasitized_img.max()"
   ]
  },
  {
   "cell_type": "code",
   "execution_count": null,
   "id": "11f9071d-dadb-4aec-a419-c616b666419b",
   "metadata": {},
   "outputs": [],
   "source": [
    "image_gen = ImageDataGenerator(\n",
    "    rotation_range=(-20,20),\n",
    "    width_shift_range=0.1,\n",
    "    height_shift_range=0.1,\n",
    "    # rescale=1./255,\n",
    "    shear_range=0.1,\n",
    "    horizontal_flip=True,\n",
    "    vertical_flip=True,\n",
    "    fill_mode='nearest'\n",
    ")"
   ]
  },
  {
   "cell_type": "code",
   "execution_count": null,
   "id": "ff73b49f-da67-4e08-84e7-6d462ddb4f9e",
   "metadata": {},
   "outputs": [],
   "source": [
    "image_gen.flow_from_directory(train_path)"
   ]
  },
  {
   "cell_type": "code",
   "execution_count": null,
   "id": "14c5690f-e44a-4c4b-b3e8-d0a0fe5d8139",
   "metadata": {},
   "outputs": [],
   "source": [
    "image_gen.flow_from_directory(test_path)"
   ]
  },
  {
   "cell_type": "markdown",
   "id": "1cbdff8b-ecef-495d-b47f-884bdc55a19a",
   "metadata": {},
   "source": [
    "## Creating the Model and Training"
   ]
  },
  {
   "cell_type": "code",
   "execution_count": null,
   "id": "676caa09-1bfe-4def-a8a2-22a0a6002831",
   "metadata": {},
   "outputs": [],
   "source": [
    "model = Sequential()\n",
    "\n",
    "model.add(Input(shape=(img_height, img_width, 3)))\n",
    "\n",
    "model.add(Conv2D(filters=32, kernel_size=(3,3), activation='relu'))\n",
    "model.add(MaxPool2D(pool_size=(2,2)))\n",
    "model.add(Conv2D(filters=64, kernel_size=(3,3), activation='relu'))\n",
    "model.add(MaxPool2D(pool_size=(2,2)))\n",
    "model.add(Conv2D(filters=64, kernel_size=(3,3), activation='relu'))\n",
    "model.add(MaxPool2D(pool_size=(2,2)))\n",
    "\n",
    "model.add(Flatten())\n",
    "\n",
    "model.add(Dense(units=128, activation='relu'))\n",
    "model.add(Dropout(0.5))\n",
    "model.add(Dense(units=1, activation='sigmoid'))"
   ]
  },
  {
   "cell_type": "code",
   "execution_count": null,
   "id": "2a99b979-82b5-43c3-ad30-d45eea248a5b",
   "metadata": {},
   "outputs": [],
   "source": [
    "model.compile(loss='binary_crossentropy', optimizer='adam', metrics=['accuracy'])"
   ]
  },
  {
   "cell_type": "code",
   "execution_count": null,
   "id": "82360bd8-7146-4286-a3f5-445003557bb1",
   "metadata": {},
   "outputs": [],
   "source": [
    "early_stop = EarlyStopping(monitor='val_loss', patience=3, restore_best_weights=True)"
   ]
  },
  {
   "cell_type": "code",
   "execution_count": null,
   "id": "cb4f0da6-8872-46f9-8b72-79710741a968",
   "metadata": {},
   "outputs": [],
   "source": [
    "train = image_gen.flow_from_directory(\n",
    "    train_path,\n",
    "    target_size=(img_height, img_width),\n",
    "    color_mode='rgb',\n",
    "    batch_size=32,\n",
    "    class_mode='binary'\n",
    ")"
   ]
  },
  {
   "cell_type": "code",
   "execution_count": null,
   "id": "409a4563-f893-4482-b399-d15b765256b2",
   "metadata": {},
   "outputs": [],
   "source": [
    "test = image_gen.flow_from_directory(\n",
    "    test_path,\n",
    "    target_size=(img_height, img_width),\n",
    "    color_mode='rgb',\n",
    "    batch_size=32,\n",
    "    class_mode='binary',\n",
    "    shuffle=False\n",
    ")"
   ]
  },
  {
   "cell_type": "code",
   "execution_count": null,
   "id": "532fa641-f6c7-463f-98e9-cdba21faf841",
   "metadata": {},
   "outputs": [],
   "source": [
    "train.class_indices"
   ]
  },
  {
   "cell_type": "code",
   "execution_count": null,
   "id": "4aa7c661-356f-4972-ac20-8889e400ee2d",
   "metadata": {},
   "outputs": [],
   "source": [
    "import warnings\n",
    "warnings.filterwarnings('ignore')"
   ]
  },
  {
   "cell_type": "code",
   "execution_count": null,
   "id": "10683be6-0673-46cb-9998-888b07f02424",
   "metadata": {},
   "outputs": [],
   "source": [
    "model.fit(train, epochs=20, validation_data=test, callbacks=[early_stop])"
   ]
  },
  {
   "cell_type": "markdown",
   "id": "19014064-cc77-4e9b-b4c0-c33e183adc5f",
   "metadata": {},
   "source": [
    "## Save Model"
   ]
  },
  {
   "cell_type": "code",
   "execution_count": null,
   "id": "7fd900b3-25e0-4f9e-9362-88512b6d27f8",
   "metadata": {},
   "outputs": [],
   "source": [
    "model.save('C:\\\\Users\\\\alvar\\\\Documents\\\\tf_templates\\\\CNN\\\\malaria_model.keras')"
   ]
  },
  {
   "cell_type": "markdown",
   "id": "85797dc7-d0d9-44f8-8d8c-32e22ffab8b2",
   "metadata": {},
   "source": [
    "## Evaluation"
   ]
  },
  {
   "cell_type": "code",
   "execution_count": null,
   "id": "aab18f4c-a439-4b8e-8b32-bc6761d06b66",
   "metadata": {},
   "outputs": [],
   "source": [
    "losses = pd.DataFrame(model.history.history)"
   ]
  },
  {
   "cell_type": "code",
   "execution_count": null,
   "id": "e59f10fa-e403-4487-afb7-7f2b7f322639",
   "metadata": {},
   "outputs": [],
   "source": [
    "losses[['accuracy','val_accuracy']].plot();"
   ]
  },
  {
   "cell_type": "code",
   "execution_count": null,
   "id": "7195e63d-72b4-40b9-a4d9-f3b3a592a83a",
   "metadata": {},
   "outputs": [],
   "source": [
    "losses[['loss','val_loss']].plot();"
   ]
  },
  {
   "cell_type": "code",
   "execution_count": null,
   "id": "b93f62d2-0570-40a2-a24e-32728d701b60",
   "metadata": {},
   "outputs": [],
   "source": [
    "print(model.metrics_names)\n",
    "print(model.evaluate(test, verbose=1))"
   ]
  },
  {
   "cell_type": "code",
   "execution_count": null,
   "id": "1cf2755e-ff0b-4718-999a-260287a5fc71",
   "metadata": {},
   "outputs": [],
   "source": [
    "predictions = np.round(model.predict(test))\n",
    "predictions"
   ]
  },
  {
   "cell_type": "code",
   "execution_count": null,
   "id": "6f2d8b6d-b4d4-44b3-8cb5-70b89b095386",
   "metadata": {},
   "outputs": [],
   "source": [
    "y_true = test.classes\n",
    "y_true"
   ]
  },
  {
   "cell_type": "code",
   "execution_count": null,
   "id": "6c12ef9e-bc9e-4b9a-8603-3093d1302e32",
   "metadata": {},
   "outputs": [],
   "source": [
    "print(classification_report(y_true,predictions))"
   ]
  },
  {
   "cell_type": "markdown",
   "id": "abe1c3d5-9785-4166-bd99-dc685c747f9c",
   "metadata": {},
   "source": [
    "## Predict Classes"
   ]
  },
  {
   "cell_type": "code",
   "execution_count": null,
   "id": "0fe94cd4-62ea-4cf3-8c43-8fec5649aa3e",
   "metadata": {},
   "outputs": [],
   "source": [
    "my_image = load_img(parasitized_cell, target_size=(img_height, img_width, 3))\n",
    "my_image = np.expand_dims(img_to_array(my_image), axis=0)\n",
    "my_image.shape"
   ]
  },
  {
   "cell_type": "code",
   "execution_count": null,
   "id": "f44bd8ab-9377-47b3-bfd3-1b97390084b7",
   "metadata": {},
   "outputs": [],
   "source": [
    "np.round(model.predict(my_image))"
   ]
  },
  {
   "cell_type": "code",
   "execution_count": null,
   "id": "f41de357-2d60-455f-b13e-50ca1ab6c76b",
   "metadata": {},
   "outputs": [],
   "source": [
    "train.class_indices"
   ]
  },
  {
   "cell_type": "code",
   "execution_count": null,
   "id": "d59bbf04-92bd-4b9a-a2b2-5d57721d8c6e",
   "metadata": {},
   "outputs": [],
   "source": []
  }
 ],
 "metadata": {
  "kernelspec": {
   "display_name": "Python 3 (ipykernel)",
   "language": "python",
   "name": "python3"
  },
  "language_info": {
   "codemirror_mode": {
    "name": "ipython",
    "version": 3
   },
   "file_extension": ".py",
   "mimetype": "text/x-python",
   "name": "python",
   "nbconvert_exporter": "python",
   "pygments_lexer": "ipython3",
   "version": "3.12.2"
  }
 },
 "nbformat": 4,
 "nbformat_minor": 5
}
