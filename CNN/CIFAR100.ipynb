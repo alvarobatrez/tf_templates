{
 "cells": [
  {
   "cell_type": "code",
   "execution_count": null,
   "id": "dd8a326c-9ab4-4720-b042-9f6142249873",
   "metadata": {},
   "outputs": [],
   "source": [
    "import numpy as np\n",
    "import pandas as pd\n",
    "import matplotlib.pyplot as plt"
   ]
  },
  {
   "cell_type": "code",
   "execution_count": null,
   "id": "3baee538-6813-4345-98b7-f44d0742ed60",
   "metadata": {},
   "outputs": [],
   "source": [
    "from tensorflow.keras.models import Sequential, Model\n",
    "from tensorflow.keras.layers import Dense, Flatten, Dropout\n",
    "from tensorflow.keras.callbacks import EarlyStopping\n",
    "from tensorflow.keras.layers import Resizing, Rescaling"
   ]
  },
  {
   "cell_type": "code",
   "execution_count": null,
   "id": "1cd88f0a-e1d0-4e89-ab5a-ae7bd93a96d4",
   "metadata": {},
   "outputs": [],
   "source": [
    "from tensorflow.keras.applications import MobileNetV3Small"
   ]
  },
  {
   "cell_type": "code",
   "execution_count": null,
   "id": "3e246d5a-e367-49c4-bc52-392e04b256b3",
   "metadata": {},
   "outputs": [],
   "source": [
    "from sklearn.metrics import classification_report, confusion_matrix"
   ]
  },
  {
   "cell_type": "markdown",
   "id": "aff62a69-b885-4cbf-bd4a-8504acf8290b",
   "metadata": {},
   "source": [
    "## Exploratory Visualization and Analysis"
   ]
  },
  {
   "cell_type": "code",
   "execution_count": null,
   "id": "5b9273c4-5a19-40a9-a5bb-b721762b8269",
   "metadata": {},
   "outputs": [],
   "source": [
    "from tensorflow.keras.datasets import cifar10\n",
    "(x_train, y_train), (x_test, y_test) = cifar10.load_data()"
   ]
  },
  {
   "cell_type": "code",
   "execution_count": null,
   "id": "415308e6-4670-4a3b-85b4-9c2351bdedef",
   "metadata": {},
   "outputs": [],
   "source": [
    "x_train.shape"
   ]
  },
  {
   "cell_type": "code",
   "execution_count": null,
   "id": "396915e2-f117-4302-8abe-6f1b3050389b",
   "metadata": {},
   "outputs": [],
   "source": [
    "single_image = x_train[0]"
   ]
  },
  {
   "cell_type": "code",
   "execution_count": null,
   "id": "b4657310-d810-4eb6-886b-0afa37d2bf18",
   "metadata": {},
   "outputs": [],
   "source": [
    "single_image.shape"
   ]
  },
  {
   "cell_type": "code",
   "execution_count": null,
   "id": "f8f56ee4-418c-4927-a249-6c7b0027f5a5",
   "metadata": {},
   "outputs": [],
   "source": [
    "plt.imshow(single_image);"
   ]
  },
  {
   "cell_type": "markdown",
   "id": "a6167e5c-6168-42d1-a1b4-70c36968b61c",
   "metadata": {},
   "source": [
    "## Labeling"
   ]
  },
  {
   "cell_type": "code",
   "execution_count": null,
   "id": "4ef21825-fce1-4670-bfa4-33f6cd6f5f12",
   "metadata": {},
   "outputs": [],
   "source": [
    "y_train"
   ]
  },
  {
   "cell_type": "code",
   "execution_count": null,
   "id": "2909b8a8-e6ae-4e1a-b293-7f846687de3a",
   "metadata": {},
   "outputs": [],
   "source": [
    "y_train.shape"
   ]
  },
  {
   "cell_type": "markdown",
   "id": "03110e8f-ddae-4427-8e73-5fc5741aab6d",
   "metadata": {},
   "source": [
    "## Scaling"
   ]
  },
  {
   "cell_type": "code",
   "execution_count": null,
   "id": "d47caeb4-4486-4f15-b36d-a67cfd7e3084",
   "metadata": {},
   "outputs": [],
   "source": [
    "x_train.max()"
   ]
  },
  {
   "cell_type": "code",
   "execution_count": null,
   "id": "49c7a866-60f9-4a6b-aed4-5d5e7c277529",
   "metadata": {},
   "outputs": [],
   "source": [
    "x_train.min()"
   ]
  },
  {
   "cell_type": "markdown",
   "id": "3f43c4f4-3547-4479-a272-e3e820c698cf",
   "metadata": {},
   "source": [
    "## Creating a Prefab Model and Training"
   ]
  },
  {
   "cell_type": "code",
   "execution_count": null,
   "id": "eeb6bcce-d191-4556-9a1c-08755335e6df",
   "metadata": {},
   "outputs": [],
   "source": [
    "base_model = MobileNetV3Small(include_top=False, input_shape=(32,32,3), weights='imagenet')\n",
    "base_model = Model(inputs=base_model.input, outputs=Flatten()(base_model.output))\n",
    "\n",
    "model = Sequential()\n",
    "\n",
    "model.add(Resizing(32,32))\n",
    "model.add(Rescaling(1.0/255))\n",
    "\n",
    "model.add(base_model)\n",
    "\n",
    "model.add(Dense(units=1024, activation='relu'))\n",
    "model.add(Dropout(0.2))\n",
    "model.add(Dense(units=10, activation='softmax'))\n",
    "\n",
    "# Train just the last 10 layers\n",
    "# for layer in model.layers:\n",
    "#     layer.trainable = False\n",
    "\n",
    "# for layer in model.layers[-10:]:\n",
    "#     layer.trainable = True\n",
    "\n",
    "# Block the base_model layers\n",
    "for layer in base_model.layers:\n",
    "    layer.trainable = False"
   ]
  },
  {
   "cell_type": "code",
   "execution_count": null,
   "id": "163972ff-f208-406f-8ea9-2a4395da29e7",
   "metadata": {},
   "outputs": [],
   "source": [
    "model.compile(loss='sparse_categorical_crossentropy', optimizer='adam', metrics=['accuracy'])"
   ]
  },
  {
   "cell_type": "code",
   "execution_count": null,
   "id": "6a65167c-a8cc-4ece-9d3e-33e540d2b7d9",
   "metadata": {},
   "outputs": [],
   "source": [
    "model.summary()"
   ]
  },
  {
   "cell_type": "code",
   "execution_count": null,
   "id": "cc4e146b-0b55-475d-8f58-cc74c49244c6",
   "metadata": {},
   "outputs": [],
   "source": [
    "early_stop = EarlyStopping(monitor='val_loss', patience=4, restore_best_weights=True)"
   ]
  },
  {
   "cell_type": "code",
   "execution_count": null,
   "id": "511638af-2737-48be-86a7-a0bf0c427615",
   "metadata": {},
   "outputs": [],
   "source": [
    "model.fit(x=x_train, y=y_train, epochs=20, batch_size=16, validation_data=(x_test,y_test), callbacks=[early_stop])"
   ]
  },
  {
   "cell_type": "markdown",
   "id": "31d2a586-880b-4e31-a708-648ca644ae65",
   "metadata": {},
   "source": [
    "## Evaluation"
   ]
  },
  {
   "cell_type": "code",
   "execution_count": null,
   "id": "b5585497-5dcd-4844-8ce0-b2a59ff9e612",
   "metadata": {},
   "outputs": [],
   "source": [
    "losses = pd.DataFrame(model.history.history)"
   ]
  },
  {
   "cell_type": "code",
   "execution_count": null,
   "id": "545e7780-4343-43b0-a999-5b4c5c3655fe",
   "metadata": {},
   "outputs": [],
   "source": [
    "losses[['accuracy','val_accuracy']].plot();"
   ]
  },
  {
   "cell_type": "code",
   "execution_count": null,
   "id": "0201171b-0d15-4603-b094-7d8552e80872",
   "metadata": {},
   "outputs": [],
   "source": [
    "losses[['loss','val_loss']].plot();"
   ]
  },
  {
   "cell_type": "code",
   "execution_count": null,
   "id": "910372bd-049c-4cbc-985a-728b5bf7e901",
   "metadata": {},
   "outputs": [],
   "source": [
    "print(model.metrics_names)\n",
    "print(model.evaluate(x_test, y_test, verbose=0))"
   ]
  },
  {
   "cell_type": "code",
   "execution_count": null,
   "id": "84f86a86-b338-4229-87d4-d23a66cd5bd2",
   "metadata": {},
   "outputs": [],
   "source": [
    "predictions = np.argmax(model.predict(x_test), axis=1)\n",
    "predictions"
   ]
  },
  {
   "cell_type": "code",
   "execution_count": null,
   "id": "b4887828-f5ce-45e7-8d05-318934ec0a09",
   "metadata": {},
   "outputs": [],
   "source": [
    "y_test"
   ]
  },
  {
   "cell_type": "code",
   "execution_count": null,
   "id": "82af4d50-0681-4420-bc22-44e689b3cc05",
   "metadata": {},
   "outputs": [],
   "source": [
    "print(classification_report(y_test, predictions))"
   ]
  },
  {
   "cell_type": "markdown",
   "id": "60c0f45b-569c-4393-9892-eaffa4d10d02",
   "metadata": {},
   "source": [
    "## Predict Classes"
   ]
  },
  {
   "cell_type": "code",
   "execution_count": null,
   "id": "1d9593f7-7957-46bd-a8a6-f38be5396a7f",
   "metadata": {},
   "outputs": [],
   "source": [
    "my_img = x_test[100]\n",
    "plt.imshow(my_img.reshape(32,32,3));"
   ]
  },
  {
   "cell_type": "code",
   "execution_count": null,
   "id": "cf504b7c-1d86-4bcf-a6cc-7203d51fa15a",
   "metadata": {},
   "outputs": [],
   "source": [
    "prediction = np.argmax(model.predict(my_img.reshape(1,32,32,3)), axis=1)\n",
    "prediction"
   ]
  },
  {
   "cell_type": "code",
   "execution_count": null,
   "id": "5af340b7-30e9-441c-8722-302546c4b5bf",
   "metadata": {},
   "outputs": [],
   "source": []
  }
 ],
 "metadata": {
  "kernelspec": {
   "display_name": "Python 3 (ipykernel)",
   "language": "python",
   "name": "python3"
  },
  "language_info": {
   "codemirror_mode": {
    "name": "ipython",
    "version": 3
   },
   "file_extension": ".py",
   "mimetype": "text/x-python",
   "name": "python",
   "nbconvert_exporter": "python",
   "pygments_lexer": "ipython3",
   "version": "3.12.2"
  }
 },
 "nbformat": 4,
 "nbformat_minor": 5
}
