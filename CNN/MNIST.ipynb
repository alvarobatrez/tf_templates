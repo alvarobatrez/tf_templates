{
 "cells": [
  {
   "cell_type": "code",
   "execution_count": null,
   "id": "8c506ecd-7ffc-484b-a8eb-c1ca916f79ee",
   "metadata": {},
   "outputs": [],
   "source": [
    "import numpy as np\n",
    "import pandas as pd\n",
    "import matplotlib.pyplot as plt\n",
    "import seaborn as sns"
   ]
  },
  {
   "cell_type": "code",
   "execution_count": null,
   "id": "14f5b6c7-4aa4-4938-b108-3e4779ab570c",
   "metadata": {},
   "outputs": [],
   "source": [
    "from tensorflow.keras.datasets import mnist"
   ]
  },
  {
   "cell_type": "code",
   "execution_count": null,
   "id": "649b2de0-0754-4192-ba85-3166fd5fbea5",
   "metadata": {},
   "outputs": [],
   "source": [
    "from tensorflow.keras.utils import to_categorical"
   ]
  },
  {
   "cell_type": "code",
   "execution_count": null,
   "id": "644a9819-7606-4793-9866-734a8ff7f1a1",
   "metadata": {},
   "outputs": [],
   "source": [
    "from tensorflow.keras.models import Sequential\n",
    "from tensorflow.keras.layers import Dense, Conv2D, MaxPool2D, Flatten\n",
    "from tensorflow.keras import Input\n",
    "from tensorflow.keras.callbacks import EarlyStopping"
   ]
  },
  {
   "cell_type": "code",
   "execution_count": null,
   "id": "07828f6d-424e-4904-b24b-44f6d8290bd7",
   "metadata": {},
   "outputs": [],
   "source": [
    "from sklearn.metrics import classification_report, confusion_matrix"
   ]
  },
  {
   "cell_type": "markdown",
   "id": "ef0114ed-8260-4753-a4f4-dc84b92c74da",
   "metadata": {},
   "source": [
    "## Exploratory Visualization and Analysis"
   ]
  },
  {
   "cell_type": "code",
   "execution_count": null,
   "id": "db259096-df56-4e18-8bc5-7d9a95731f3f",
   "metadata": {},
   "outputs": [],
   "source": [
    "from tensorflow.keras.datasets import mnist\n",
    "(x_train, y_train), (x_test, y_test) = mnist.load_data()"
   ]
  },
  {
   "cell_type": "code",
   "execution_count": null,
   "id": "d8c2f092-029e-42b1-a520-84da9f782aae",
   "metadata": {},
   "outputs": [],
   "source": [
    "x_train.shape"
   ]
  },
  {
   "cell_type": "code",
   "execution_count": null,
   "id": "ebb29836-9e86-459f-9129-3cef56a3458d",
   "metadata": {},
   "outputs": [],
   "source": [
    "single_image = x_train[0]"
   ]
  },
  {
   "cell_type": "code",
   "execution_count": null,
   "id": "ee805210-0fc0-482e-b4c0-ff97c7130c8d",
   "metadata": {},
   "outputs": [],
   "source": [
    "single_image.shape"
   ]
  },
  {
   "cell_type": "code",
   "execution_count": null,
   "id": "5e1cc3e4-2b14-4b02-b5bb-8cc284c6d7e3",
   "metadata": {},
   "outputs": [],
   "source": [
    "plt.imshow(single_image);"
   ]
  },
  {
   "cell_type": "markdown",
   "id": "e66a22a9-1b5c-4c80-850e-6d6bef63521c",
   "metadata": {},
   "source": [
    "## Labeling"
   ]
  },
  {
   "cell_type": "code",
   "execution_count": null,
   "id": "bcff4fcd-c8f4-4daa-b569-6e34e92400ab",
   "metadata": {},
   "outputs": [],
   "source": [
    "y_train"
   ]
  },
  {
   "cell_type": "code",
   "execution_count": null,
   "id": "1891c531-971a-439c-be30-ae0a131ef784",
   "metadata": {},
   "outputs": [],
   "source": [
    "y_train.shape"
   ]
  },
  {
   "cell_type": "code",
   "execution_count": null,
   "id": "d0fff81d-d0e5-46fa-9626-9c743b480494",
   "metadata": {},
   "outputs": [],
   "source": [
    "y_cat_test = to_categorical(y_test, 10)\n",
    "y_cat_train = to_categorical(y_train, 10)"
   ]
  },
  {
   "cell_type": "code",
   "execution_count": null,
   "id": "3dad1cd0-b034-4411-9fcf-ea46c414f161",
   "metadata": {},
   "outputs": [],
   "source": [
    "y_cat_train"
   ]
  },
  {
   "cell_type": "markdown",
   "id": "b4bcc396-6a50-499b-a88e-7768636d4b33",
   "metadata": {},
   "source": [
    "## Scaling and Reshaping"
   ]
  },
  {
   "cell_type": "code",
   "execution_count": null,
   "id": "3b27260f-d772-4cdb-b1ef-d22a40933974",
   "metadata": {},
   "outputs": [],
   "source": [
    "x_train.max()"
   ]
  },
  {
   "cell_type": "code",
   "execution_count": null,
   "id": "cec0e3cd-b28b-4072-a25f-1bb5e0e186fe",
   "metadata": {},
   "outputs": [],
   "source": [
    "x_train.min()"
   ]
  },
  {
   "cell_type": "code",
   "execution_count": null,
   "id": "326b18b5-960c-4e55-85b1-60d0429f449f",
   "metadata": {},
   "outputs": [],
   "source": [
    "x_train = x_train / 255\n",
    "x_test = x_test / 255"
   ]
  },
  {
   "cell_type": "code",
   "execution_count": null,
   "id": "85baff28-d4a6-406d-b685-72e994b11f9f",
   "metadata": {},
   "outputs": [],
   "source": [
    "plt.imshow(x_train[0]);"
   ]
  },
  {
   "cell_type": "code",
   "execution_count": null,
   "id": "22238eac-67de-4e12-ad7a-3450d11dd233",
   "metadata": {},
   "outputs": [],
   "source": [
    "x_train.shape"
   ]
  },
  {
   "cell_type": "code",
   "execution_count": null,
   "id": "d7a550f3-a691-4f0d-8ed9-a83c2d9f10c3",
   "metadata": {},
   "outputs": [],
   "source": [
    "x_test.shape"
   ]
  },
  {
   "cell_type": "code",
   "execution_count": null,
   "id": "795d4fc0-5fc4-4920-b9b5-28edd49d2991",
   "metadata": {},
   "outputs": [],
   "source": [
    "x_train = x_train.reshape(60000, 28, 28, 1)"
   ]
  },
  {
   "cell_type": "code",
   "execution_count": null,
   "id": "13058fc0-ca1c-47c6-ba63-b4482a78ff53",
   "metadata": {},
   "outputs": [],
   "source": [
    "x_train.shape"
   ]
  },
  {
   "cell_type": "code",
   "execution_count": null,
   "id": "a6d3e767-e5a5-4635-8879-5b3694ae8f74",
   "metadata": {},
   "outputs": [],
   "source": [
    "x_test = x_test.reshape(10000, 28, 28, 1)"
   ]
  },
  {
   "cell_type": "code",
   "execution_count": null,
   "id": "0479200c-2238-4b3b-892e-ec00fbe7d960",
   "metadata": {},
   "outputs": [],
   "source": [
    "x_test.shape"
   ]
  },
  {
   "cell_type": "markdown",
   "id": "48a3b25d-486c-4a14-80d4-2780a59039fb",
   "metadata": {},
   "source": [
    "## Creating the Model and Training"
   ]
  },
  {
   "cell_type": "code",
   "execution_count": null,
   "id": "d239e3a8-ec7c-4878-a82a-527e263d1d55",
   "metadata": {},
   "outputs": [],
   "source": [
    "model = Sequential()\n",
    "\n",
    "model.add(Input(shape=(28,28,1)))\n",
    "\n",
    "model.add(Conv2D(filters=32, kernel_size=(4,4), activation='relu'))\n",
    "model.add(Conv2D(filters=32, kernel_size=(4,4), activation='relu'))\n",
    "model.add(Conv2D(filters=32, kernel_size=(4,4), activation='relu'))\n",
    "\n",
    "model.add(MaxPool2D(pool_size=(2,2)))\n",
    "\n",
    "model.add(Flatten())\n",
    "\n",
    "model.add(Dense(units=128, activation='relu'))\n",
    "model.add(Dense(units=10, activation='softmax'))"
   ]
  },
  {
   "cell_type": "code",
   "execution_count": null,
   "id": "3b2b56e8-81c5-4d79-ab4a-298890850612",
   "metadata": {},
   "outputs": [],
   "source": [
    "model.summary()"
   ]
  },
  {
   "cell_type": "code",
   "execution_count": null,
   "id": "ce0f127f-4b76-4d2c-9933-a7ef1c7e0889",
   "metadata": {},
   "outputs": [],
   "source": [
    "model.compile(loss='categorical_crossentropy', optimizer='adam', metrics=['accuracy'])"
   ]
  },
  {
   "cell_type": "code",
   "execution_count": null,
   "id": "37994996-9005-4286-ad41-bce9a16f0ada",
   "metadata": {},
   "outputs": [],
   "source": [
    "early_stop = EarlyStopping(monitor='val_loss', patience=3, restore_best_weights=True)"
   ]
  },
  {
   "cell_type": "code",
   "execution_count": null,
   "id": "2a187bc3-d14d-4a94-8427-83dfcd3d1048",
   "metadata": {},
   "outputs": [],
   "source": [
    "model.fit(x=x_train, y=y_cat_train, epochs=15, validation_data=(x_test,y_cat_test), callbacks=[early_stop])"
   ]
  },
  {
   "cell_type": "markdown",
   "id": "00e6dcf9-4b3e-4455-b0db-1d7579d9eb27",
   "metadata": {},
   "source": [
    "## Evaluation"
   ]
  },
  {
   "cell_type": "code",
   "execution_count": null,
   "id": "70a80b70-ff1f-4d99-9f15-25b0eb9d5a2c",
   "metadata": {},
   "outputs": [],
   "source": [
    "losses = pd.DataFrame(model.history.history)"
   ]
  },
  {
   "cell_type": "code",
   "execution_count": null,
   "id": "8a3778c8-0878-449e-b834-fef17bca484d",
   "metadata": {},
   "outputs": [],
   "source": [
    "losses[['accuracy','val_accuracy']].plot();"
   ]
  },
  {
   "cell_type": "code",
   "execution_count": null,
   "id": "b84192e2-cacc-4694-9c96-3cd04f534759",
   "metadata": {},
   "outputs": [],
   "source": [
    "losses[['loss','val_loss']].plot();"
   ]
  },
  {
   "cell_type": "code",
   "execution_count": null,
   "id": "cdc35e79-853f-41e7-b106-3e331a3e3fcc",
   "metadata": {},
   "outputs": [],
   "source": [
    "print(model.metrics_names)\n",
    "print(model.evaluate(x_test, y_cat_test, verbose=0))"
   ]
  },
  {
   "cell_type": "code",
   "execution_count": null,
   "id": "b8b84505-ff35-47ab-a0c7-496fe89d2c6e",
   "metadata": {},
   "outputs": [],
   "source": [
    "predictions = np.argmax(model.predict(x_test), axis=1)\n",
    "predictions"
   ]
  },
  {
   "cell_type": "code",
   "execution_count": null,
   "id": "d404c508-fe93-4b88-a3a8-ab28d1431fee",
   "metadata": {},
   "outputs": [],
   "source": [
    "y_test"
   ]
  },
  {
   "cell_type": "code",
   "execution_count": null,
   "id": "cff40399-207e-44c2-9807-7f0cfc1b1f6d",
   "metadata": {},
   "outputs": [],
   "source": [
    "print(classification_report(y_test, predictions))"
   ]
  },
  {
   "cell_type": "code",
   "execution_count": null,
   "id": "9020f61d-80c9-49ba-ac25-81c27033de0c",
   "metadata": {},
   "outputs": [],
   "source": [
    "plt.figure(figsize=(12,12))\n",
    "sns.heatmap(confusion_matrix(y_test, predictions), annot=True);"
   ]
  },
  {
   "cell_type": "markdown",
   "id": "8ada419e-0ada-4811-ab4d-31b67d915a92",
   "metadata": {},
   "source": [
    "## Predict Classes"
   ]
  },
  {
   "cell_type": "code",
   "execution_count": null,
   "id": "48f1012f-6e2a-40dc-9620-e323f4c71ea3",
   "metadata": {},
   "outputs": [],
   "source": [
    "my_number = x_test[100]\n",
    "plt.imshow(my_number.reshape(28,28,1));"
   ]
  },
  {
   "cell_type": "code",
   "execution_count": null,
   "id": "d0adf034-9794-49ef-a944-550d755d6194",
   "metadata": {},
   "outputs": [],
   "source": [
    "prediction = np.argmax(model.predict(my_number.reshape(1,28,28,1)), axis=1)\n",
    "print(prediction)"
   ]
  },
  {
   "cell_type": "code",
   "execution_count": null,
   "id": "d73ff12d-ddd9-4175-ae56-c528ab7818d5",
   "metadata": {},
   "outputs": [],
   "source": []
  }
 ],
 "metadata": {
  "kernelspec": {
   "display_name": "Python 3 (ipykernel)",
   "language": "python",
   "name": "python3"
  },
  "language_info": {
   "codemirror_mode": {
    "name": "ipython",
    "version": 3
   },
   "file_extension": ".py",
   "mimetype": "text/x-python",
   "name": "python",
   "nbconvert_exporter": "python",
   "pygments_lexer": "ipython3",
   "version": "3.12.2"
  }
 },
 "nbformat": 4,
 "nbformat_minor": 5
}
