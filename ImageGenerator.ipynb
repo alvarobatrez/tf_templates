{
 "cells": [
  {
   "cell_type": "code",
   "execution_count": 36,
   "id": "6dda067e-ed1d-4251-b06a-4fb6b190a063",
   "metadata": {},
   "outputs": [],
   "source": [
    "import pandas as pd\n",
    "import numpy as np\n",
    "import matplotlib.pyplot as plt"
   ]
  },
  {
   "cell_type": "code",
   "execution_count": 37,
   "id": "fea7b2c0-ae6f-4dc7-8221-d33c08c31aab",
   "metadata": {},
   "outputs": [],
   "source": [
    "import tensorflow as tf\n",
    "from tensorflow.keras.models import Sequential\n",
    "from tensorflow.keras.layers import Dense, Flatten, Reshape, Input"
   ]
  },
  {
   "cell_type": "code",
   "execution_count": 38,
   "id": "f1a2669f-6eac-4834-b602-5a526598a8d6",
   "metadata": {},
   "outputs": [],
   "source": [
    "from tensorflow.keras.datasets import fashion_mnist\n",
    "from tensorflow.keras.layers import GaussianNoise"
   ]
  },
  {
   "cell_type": "code",
   "execution_count": 39,
   "id": "2f93240b-599c-4c4b-a7a4-e9012b621d36",
   "metadata": {},
   "outputs": [
    {
     "name": "stdout",
     "output_type": "stream",
     "text": [
      "Downloading data from https://storage.googleapis.com/tensorflow/tf-keras-datasets/train-labels-idx1-ubyte.gz\n",
      "\u001b[1m29515/29515\u001b[0m \u001b[32m━━━━━━━━━━━━━━━━━━━━\u001b[0m\u001b[37m\u001b[0m \u001b[1m0s\u001b[0m 1us/step\n",
      "Downloading data from https://storage.googleapis.com/tensorflow/tf-keras-datasets/train-images-idx3-ubyte.gz\n",
      "\u001b[1m26421880/26421880\u001b[0m \u001b[32m━━━━━━━━━━━━━━━━━━━━\u001b[0m\u001b[37m\u001b[0m \u001b[1m70s\u001b[0m 3us/step\n",
      "Downloading data from https://storage.googleapis.com/tensorflow/tf-keras-datasets/t10k-labels-idx1-ubyte.gz\n",
      "\u001b[1m5148/5148\u001b[0m \u001b[32m━━━━━━━━━━━━━━━━━━━━\u001b[0m\u001b[37m\u001b[0m \u001b[1m0s\u001b[0m 0us/step\n",
      "Downloading data from https://storage.googleapis.com/tensorflow/tf-keras-datasets/t10k-images-idx3-ubyte.gz\n",
      "\u001b[1m4422102/4422102\u001b[0m \u001b[32m━━━━━━━━━━━━━━━━━━━━\u001b[0m\u001b[37m\u001b[0m \u001b[1m1s\u001b[0m 0us/step\n"
     ]
    }
   ],
   "source": [
    "(X_train, y_train), (X_test, y_test) = fashion_mnist.load_data()"
   ]
  },
  {
   "cell_type": "code",
   "execution_count": 40,
   "id": "9906d998-f1b1-4359-b1de-311e05c65eda",
   "metadata": {},
   "outputs": [
    {
     "data": {
      "image/png": "[encoded data removed]",
      "text/plain": [
       "<Figure size 640x480 with 1 Axes>"
      ]
     },
     "metadata": {},
     "output_type": "display_data"
    }
   ],
   "source": [
    "plt.imshow(X_train[0]);"
   ]
  },
  {
   "cell_type": "code",
   "execution_count": 41,
   "id": "c95110cd-1ccb-4e91-8d2a-9596d8602376",
   "metadata": {},
   "outputs": [
    {
     "data": {
      "text/plain": [
       "np.uint8(255)"
      ]
     },
     "execution_count": 41,
     "metadata": {},
     "output_type": "execute_result"
    }
   ],
   "source": [
    "X_train.max()"
   ]
  },
  {
   "cell_type": "code",
   "execution_count": 42,
   "id": "53e40340-a92f-4cb3-8523-3886aefa14e8",
   "metadata": {},
   "outputs": [],
   "source": [
    "X_train = X_train / 255\n",
    "X_test = X_test / 255"
   ]
  },
  {
   "cell_type": "code",
   "execution_count": 43,
   "id": "7d77ef0f-13e6-47df-bfdc-e99a2667c2ea",
   "metadata": {},
   "outputs": [
    {
     "data": {
      "text/plain": [
       "(60000, 28, 28)"
      ]
     },
     "execution_count": 43,
     "metadata": {},
     "output_type": "execute_result"
    }
   ],
   "source": [
    "X_train.shape"
   ]
  },
  {
   "cell_type": "code",
   "execution_count": 44,
   "id": "ba450378-f5de-47d4-b036-bf308a7702f6",
   "metadata": {},
   "outputs": [],
   "source": [
    "encoder = Sequential([\n",
    "    Input(shape=(28,28)),\n",
    "    Flatten(),\n",
    "    Dense(units=400, activation='relu'),\n",
    "    Dense(units=200, activation='relu'),\n",
    "    Dense(units=100, activation='relu'),\n",
    "    Dense(units=50, activation='relu'),\n",
    "    Dense(units=25, activation='relu'),\n",
    "])"
   ]
  },
  {
   "cell_type": "code",
   "execution_count": 45,
   "id": "5b7e5856-7f36-447f-a1f0-3588aba97a64",
   "metadata": {},
   "outputs": [],
   "source": [
    "decoder = Sequential([\n",
    "    Input(shape=(25,)),\n",
    "    Dense(units=50, activation='relu'),\n",
    "    Dense(units=100, activation='relu'),\n",
    "    Dense(units=200, activation='relu'),\n",
    "    Dense(units=400, activation='relu'),\n",
    "    Dense(units=28*28, activation='sigmoid'),\n",
    "    Reshape([28,28])\n",
    "])"
   ]
  },
  {
   "cell_type": "code",
   "execution_count": 46,
   "id": "7829d7db-3a6d-4f92-ad63-f96c05a23e85",
   "metadata": {},
   "outputs": [],
   "source": [
    "autoencoder = Sequential([encoder, decoder])"
   ]
  },
  {
   "cell_type": "code",
   "execution_count": 47,
   "id": "d9fab7f5-b076-49ec-8fd8-2b7e71005ce0",
   "metadata": {},
   "outputs": [],
   "source": [
    "autoencoder.compile(loss='binary_crossentropy', optimizer='adam', metrics=['accuracy'])"
   ]
  },
  {
   "cell_type": "code",
   "execution_count": 48,
   "id": "3bb87493-a9ce-46a1-adaf-bc4ebc9b34e9",
   "metadata": {},
   "outputs": [
    {
     "name": "stdout",
     "output_type": "stream",
     "text": [
      "Epoch 1/10\n",
      "\u001b[1m469/469\u001b[0m \u001b[32m━━━━━━━━━━━━━━━━━━━━\u001b[0m\u001b[37m\u001b[0m \u001b[1m10s\u001b[0m 14ms/step - accuracy: 0.0608 - loss: 0.4123 - val_accuracy: 0.0948 - val_loss: 0.3105\n",
      "Epoch 2/10\n",
      "\u001b[1m469/469\u001b[0m \u001b[32m━━━━━━━━━━━━━━━━━━━━\u001b[0m\u001b[37m\u001b[0m \u001b[1m2s\u001b[0m 4ms/step - accuracy: 0.0994 - loss: 0.3050 - val_accuracy: 0.1129 - val_loss: 0.3006\n",
      "Epoch 3/10\n",
      "\u001b[1m469/469\u001b[0m \u001b[32m━━━━━━━━━━━━━━━━━━━━\u001b[0m\u001b[37m\u001b[0m \u001b[1m1s\u001b[0m 3ms/step - accuracy: 0.1164 - loss: 0.2965 - val_accuracy: 0.1280 - val_loss: 0.2955\n",
      "Epoch 4/10\n",
      "\u001b[1m469/469\u001b[0m \u001b[32m━━━━━━━━━━━━━━━━━━━━\u001b[0m\u001b[37m\u001b[0m \u001b[1m4s\u001b[0m 8ms/step - accuracy: 0.1277 - loss: 0.2927 - val_accuracy: 0.1304 - val_loss: 0.2930\n",
      "Epoch 5/10\n",
      "\u001b[1m469/469\u001b[0m \u001b[32m━━━━━━━━━━━━━━━━━━━━\u001b[0m\u001b[37m\u001b[0m \u001b[1m1s\u001b[0m 3ms/step - accuracy: 0.1355 - loss: 0.2906 - val_accuracy: 0.1405 - val_loss: 0.2916\n",
      "Epoch 6/10\n",
      "\u001b[1m469/469\u001b[0m \u001b[32m━━━━━━━━━━━━━━━━━━━━\u001b[0m\u001b[37m\u001b[0m \u001b[1m1s\u001b[0m 3ms/step - accuracy: 0.1399 - loss: 0.2884 - val_accuracy: 0.1427 - val_loss: 0.2886\n",
      "Epoch 7/10\n",
      "\u001b[1m469/469\u001b[0m \u001b[32m━━━━━━━━━━━━━━━━━━━━\u001b[0m\u001b[37m\u001b[0m \u001b[1m1s\u001b[0m 2ms/step - accuracy: 0.1451 - loss: 0.2862 - val_accuracy: 0.1490 - val_loss: 0.2874\n",
      "Epoch 8/10\n",
      "\u001b[1m469/469\u001b[0m \u001b[32m━━━━━━━━━━━━━━━━━━━━\u001b[0m\u001b[37m\u001b[0m \u001b[1m1s\u001b[0m 3ms/step - accuracy: 0.1535 - loss: 0.2845 - val_accuracy: 0.1551 - val_loss: 0.2875\n",
      "Epoch 9/10\n",
      "\u001b[1m469/469\u001b[0m \u001b[32m━━━━━━━━━━━━━━━━━━━━\u001b[0m\u001b[37m\u001b[0m \u001b[1m1s\u001b[0m 2ms/step - accuracy: 0.1592 - loss: 0.2832 - val_accuracy: 0.1643 - val_loss: 0.2845\n",
      "Epoch 10/10\n",
      "\u001b[1m469/469\u001b[0m \u001b[32m━━━━━━━━━━━━━━━━━━━━\u001b[0m\u001b[37m\u001b[0m \u001b[1m1s\u001b[0m 3ms/step - accuracy: 0.1646 - loss: 0.2822 - val_accuracy: 0.1669 - val_loss: 0.2842\n"
     ]
    },
    {
     "data": {
      "text/plain": [
       "<keras.src.callbacks.history.History at 0x7f3a49c04f20>"
      ]
     },
     "execution_count": 48,
     "metadata": {},
     "output_type": "execute_result"
    }
   ],
   "source": [
    "autoencoder.fit(X_train, X_train, epochs=10, batch_size=128, validation_data=[X_test, X_test])"
   ]
  },
  {
   "cell_type": "code",
   "execution_count": 49,
   "id": "7b0007e7-84ab-435e-8e45-f5070bc8ec46",
   "metadata": {},
   "outputs": [
    {
     "name": "stdout",
     "output_type": "stream",
     "text": [
      "\u001b[1m313/313\u001b[0m \u001b[32m━━━━━━━━━━━━━━━━━━━━\u001b[0m\u001b[37m\u001b[0m \u001b[1m2s\u001b[0m 5ms/step\n"
     ]
    }
   ],
   "source": [
    "generated_images = autoencoder.predict(X_test)"
   ]
  },
  {
   "cell_type": "code",
   "execution_count": 50,
   "id": "298b902c-0741-4fc0-afca-5d39e0f74446",
   "metadata": {},
   "outputs": [
    {
     "data": {
      "image/png": "[encoded data removed]",
      "text/plain": [
       "<Figure size 640x480 with 1 Axes>"
      ]
     },
     "metadata": {},
     "output_type": "display_data"
    }
   ],
   "source": [
    "plt.imshow(generated_images[99]);"
   ]
  },
  {
   "cell_type": "code",
   "execution_count": 51,
   "id": "7bf98581-e728-443e-8a83-8913b1cc235c",
   "metadata": {},
   "outputs": [
    {
     "data": {
      "image/png": "[encoded data removed]",
      "text/plain": [
       "<Figure size 640x480 with 1 Axes>"
      ]
     },
     "metadata": {},
     "output_type": "display_data"
    }
   ],
   "source": [
    "plt.imshow(X_test[99]);"
   ]
  },
  {
   "cell_type": "code",
   "execution_count": 52,
   "id": "2fd60f59-7cdd-47c7-a346-11acd0150e75",
   "metadata": {},
   "outputs": [],
   "source": [
    "sample = GaussianNoise(0.2)"
   ]
  },
  {
   "cell_type": "code",
   "execution_count": 53,
   "id": "ef6a5f62-5040-48f5-9f19-33dad6607c0c",
   "metadata": {},
   "outputs": [],
   "source": [
    "noisey = sample(X_test[99], training=True)"
   ]
  },
  {
   "cell_type": "code",
   "execution_count": 54,
   "id": "185e8fd2-4ee2-4662-9a34-0618fc3126d5",
   "metadata": {},
   "outputs": [
    {
     "data": {
      "image/png": "[encoded data removed]",
      "text/plain": [
       "<Figure size 640x480 with 1 Axes>"
      ]
     },
     "metadata": {},
     "output_type": "display_data"
    }
   ],
   "source": [
    "plt.imshow(noisey);"
   ]
  },
  {
   "cell_type": "code",
   "execution_count": 55,
   "id": "d5d47ca3-4db4-4e4f-8ed8-b5cb2c40aa53",
   "metadata": {},
   "outputs": [],
   "source": [
    "encoder = Sequential([\n",
    "    Input(shape=(28,28)),\n",
    "    Flatten(),\n",
    "    GaussianNoise(0.2),\n",
    "    Dense(units=400, activation='relu'),\n",
    "    Dense(units=200, activation='relu'),\n",
    "    Dense(units=100, activation='relu'),\n",
    "    Dense(units=50, activation='relu'),\n",
    "    Dense(units=25, activation='relu'),\n",
    "])"
   ]
  },
  {
   "cell_type": "code",
   "execution_count": 56,
   "id": "613b2c33-6807-4c44-be11-5f3fa3a83058",
   "metadata": {},
   "outputs": [],
   "source": [
    "decoder = Sequential([\n",
    "    Input(shape=(25,)),\n",
    "    Dense(units=50, activation='relu'),\n",
    "    Dense(units=100, activation='relu'),\n",
    "    Dense(units=200, activation='relu'),\n",
    "    Dense(units=400, activation='relu'),\n",
    "    Dense(units=28*28, activation='sigmoid'),\n",
    "    Reshape([28,28])\n",
    "])"
   ]
  },
  {
   "cell_type": "code",
   "execution_count": 57,
   "id": "d4f0a987-d727-4a3b-9077-d26fec3fec4e",
   "metadata": {},
   "outputs": [],
   "source": [
    "noise_remover = Sequential([encoder, decoder])"
   ]
  },
  {
   "cell_type": "code",
   "execution_count": 58,
   "id": "8731a377-0674-42c7-8e18-6b0e6ac4f007",
   "metadata": {},
   "outputs": [],
   "source": [
    "noise_remover.compile(loss='binary_crossentropy', optimizer='adam', metrics=['accuracy'])"
   ]
  },
  {
   "cell_type": "code",
   "execution_count": 59,
   "id": "1152b4fd-de75-4834-8bab-2e77263881f6",
   "metadata": {
    "scrolled": true
   },
   "outputs": [
    {
     "name": "stdout",
     "output_type": "stream",
     "text": [
      "Epoch 1/10\n",
      "\u001b[1m469/469\u001b[0m \u001b[32m━━━━━━━━━━━━━━━━━━━━\u001b[0m\u001b[37m\u001b[0m \u001b[1m14s\u001b[0m 15ms/step - accuracy: 0.0620 - loss: 0.4116 - val_accuracy: 0.0926 - val_loss: 0.3174\n",
      "Epoch 2/10\n",
      "\u001b[1m469/469\u001b[0m \u001b[32m━━━━━━━━━━━━━━━━━━━━\u001b[0m\u001b[37m\u001b[0m \u001b[1m2s\u001b[0m 4ms/step - accuracy: 0.0984 - loss: 0.3090 - val_accuracy: 0.1047 - val_loss: 0.3059\n",
      "Epoch 3/10\n",
      "\u001b[1m469/469\u001b[0m \u001b[32m━━━━━━━━━━━━━━━━━━━━\u001b[0m\u001b[37m\u001b[0m \u001b[1m1s\u001b[0m 3ms/step - accuracy: 0.1133 - loss: 0.3015 - val_accuracy: 0.1338 - val_loss: 0.2990\n",
      "Epoch 4/10\n",
      "\u001b[1m469/469\u001b[0m \u001b[32m━━━━━━━━━━━━━━━━━━━━\u001b[0m\u001b[37m\u001b[0m \u001b[1m1s\u001b[0m 3ms/step - accuracy: 0.1302 - loss: 0.2968 - val_accuracy: 0.1404 - val_loss: 0.2949\n",
      "Epoch 5/10\n",
      "\u001b[1m469/469\u001b[0m \u001b[32m━━━━━━━━━━━━━━━━━━━━\u001b[0m\u001b[37m\u001b[0m \u001b[1m1s\u001b[0m 3ms/step - accuracy: 0.1415 - loss: 0.2929 - val_accuracy: 0.1477 - val_loss: 0.2926\n",
      "Epoch 6/10\n",
      "\u001b[1m469/469\u001b[0m \u001b[32m━━━━━━━━━━━━━━━━━━━━\u001b[0m\u001b[37m\u001b[0m \u001b[1m1s\u001b[0m 3ms/step - accuracy: 0.1491 - loss: 0.2912 - val_accuracy: 0.1575 - val_loss: 0.2907\n",
      "Epoch 7/10\n",
      "\u001b[1m469/469\u001b[0m \u001b[32m━━━━━━━━━━━━━━━━━━━━\u001b[0m\u001b[37m\u001b[0m \u001b[1m2s\u001b[0m 3ms/step - accuracy: 0.1560 - loss: 0.2905 - val_accuracy: 0.1658 - val_loss: 0.2888\n",
      "Epoch 8/10\n",
      "\u001b[1m469/469\u001b[0m \u001b[32m━━━━━━━━━━━━━━━━━━━━\u001b[0m\u001b[37m\u001b[0m \u001b[1m1s\u001b[0m 3ms/step - accuracy: 0.1618 - loss: 0.2881 - val_accuracy: 0.1595 - val_loss: 0.2876\n",
      "Epoch 9/10\n",
      "\u001b[1m469/469\u001b[0m \u001b[32m━━━━━━━━━━━━━━━━━━━━\u001b[0m\u001b[37m\u001b[0m \u001b[1m1s\u001b[0m 3ms/step - accuracy: 0.1673 - loss: 0.2873 - val_accuracy: 0.1745 - val_loss: 0.2865\n",
      "Epoch 10/10\n",
      "\u001b[1m469/469\u001b[0m \u001b[32m━━━━━━━━━━━━━━━━━━━━\u001b[0m\u001b[37m\u001b[0m \u001b[1m2s\u001b[0m 3ms/step - accuracy: 0.1696 - loss: 0.2858 - val_accuracy: 0.1708 - val_loss: 0.2858\n"
     ]
    },
    {
     "data": {
      "text/plain": [
       "<keras.src.callbacks.history.History at 0x7f3a49c30a70>"
      ]
     },
     "execution_count": 59,
     "metadata": {},
     "output_type": "execute_result"
    }
   ],
   "source": [
    "noise_remover.fit(X_train, X_train, epochs=10, batch_size=128, validation_data=[X_test, X_test])"
   ]
  },
  {
   "cell_type": "code",
   "execution_count": 60,
   "id": "e6baf73f-0dda-4351-9652-11824777bc0b",
   "metadata": {},
   "outputs": [],
   "source": [
    "noisey_images = sample(X_test, training=True)\n",
    "denoised_images = noise_remover(noisey_images)"
   ]
  },
  {
   "cell_type": "code",
   "execution_count": 61,
   "id": "1fa48091-cd17-466d-a39c-64c5a849a5f8",
   "metadata": {},
   "outputs": [
    {
     "data": {
      "image/png": "[encoded data removed]",
      "text/plain": [
       "<Figure size 640x480 with 1 Axes>"
      ]
     },
     "metadata": {},
     "output_type": "display_data"
    },
    {
     "data": {
      "image/png": "[encoded data removed]",
      "text/plain": [
       "<Figure size 640x480 with 1 Axes>"
      ]
     },
     "metadata": {},
     "output_type": "display_data"
    },
    {
     "data": {
      "image/png": "[encoded data removed]",
      "text/plain": [
       "<Figure size 640x480 with 1 Axes>"
      ]
     },
     "metadata": {},
     "output_type": "display_data"
    }
   ],
   "source": [
    "plt.imshow(X_test[99]);\n",
    "plt.show()\n",
    "plt.imshow(noisey_images[99]);\n",
    "plt.show()\n",
    "plt.imshow(denoised_images[99]);"
   ]
  },
  {
   "cell_type": "code",
   "execution_count": null,
   "id": "8a729457-4e66-4ee6-89ad-24a3c6e8239f",
   "metadata": {},
   "outputs": [],
   "source": []
  }
 ],
 "metadata": {
  "kernelspec": {
   "display_name": "Python 3 (ipykernel)",
   "language": "python",
   "name": "python3"
  },
  "language_info": {
   "codemirror_mode": {
    "name": "ipython",
    "version": 3
   },
   "file_extension": ".py",
   "mimetype": "text/x-python",
   "name": "python",
   "nbconvert_exporter": "python",
   "pygments_lexer": "ipython3",
   "version": "3.12.3"
  }
 },
 "nbformat": 4,
 "nbformat_minor": 5
}
